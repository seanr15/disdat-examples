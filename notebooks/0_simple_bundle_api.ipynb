{
 "cells": [
  {
   "cell_type": "code",
   "execution_count": 34,
   "metadata": {},
   "outputs": [],
   "source": [
    "from datetime import datetime\n",
    "\n",
    "import disdat.api as api\n",
    "from disdat.api import Bundle"
   ]
  },
  {
   "cell_type": "markdown",
   "metadata": {},
   "source": [
    "# Create example context\n",
    "* Remove any existing examples for clean execution"
   ]
  },
  {
   "cell_type": "code",
   "execution_count": 57,
   "metadata": {},
   "outputs": [],
   "source": [
    "data_context = 'example-context'\n",
    "\n",
    "api.context(data_context)\n",
    "api.rm(data_context, rm_all=True)"
   ]
  },
  {
   "cell_type": "markdown",
   "metadata": {},
   "source": [
    "# Define some example data to store\n",
    "* Store a scalar, an array, and a dictionary\n",
    "* All bundles will share the same \"human name\""
   ]
  },
  {
   "cell_type": "code",
   "execution_count": 58,
   "metadata": {},
   "outputs": [],
   "source": [
    "bundle_name = \"example_data\"\n",
    "scalar_data = True\n",
    "array_data = [3,4,8,12,1000]\n",
    "dict_data  = {'jumping':[3.0,4.8], 'jack': [6,8,10]}"
   ]
  },
  {
   "cell_type": "markdown",
   "metadata": {},
   "source": [
    "# Create scalar bundle with context manager"
   ]
  },
  {
   "cell_type": "code",
   "execution_count": 59,
   "metadata": {},
   "outputs": [],
   "source": [
    "with Bundle(data_context, name=bundle_name) as b:\n",
    "    b.add_data(scalar_data)\n",
    "    b.add_params({'type':'scalar'})"
   ]
  },
  {
   "cell_type": "markdown",
   "metadata": {},
   "source": [
    "# Create array bundle with constructor"
   ]
  },
  {
   "cell_type": "code",
   "execution_count": 60,
   "metadata": {},
   "outputs": [],
   "source": [
    "b = Bundle(data_context, name=bundle_name, data=array_data, params={'type':'array'})"
   ]
  },
  {
   "cell_type": "markdown",
   "metadata": {},
   "source": [
    "# Create dictionary bundle manually\n"
   ]
  },
  {
   "cell_type": "code",
   "execution_count": 61,
   "metadata": {},
   "outputs": [],
   "source": [
    "b = Bundle(data_context).open()\n",
    "b.name = bundle_name\n",
    "b.add_data(dict_data)\n",
    "b.add_params({'type':'dict'})\n",
    "b = b.close()"
   ]
  },
  {
   "cell_type": "markdown",
   "metadata": {},
   "source": [
    "# Store files in a bundle\n",
    "* Ask the bundle for a file target (places file in bundle directory)\n",
    "* Store the file in that file target\n",
    "* Return path or target in the bundle data field"
   ]
  },
  {
   "cell_type": "code",
   "execution_count": 63,
   "metadata": {},
   "outputs": [],
   "source": [
    "with Bundle(data_context, name=bundle_name) as b:\n",
    "    f1 = b.make_file(\"file_1.txt\")\n",
    "    f2 = b.make_file(\"file_2.txt\")\n",
    "    with f1.open(mode='w') as f:\n",
    "        f.write(\"This is our first file!\")\n",
    "    with f2.open(mode='w') as f:\n",
    "        f.write(\"This is our second file!\")\n",
    "    b.add_data([f1,f2])\n",
    "    b.add_params({'type':'file'})"
   ]
  },
  {
   "cell_type": "markdown",
   "metadata": {},
   "source": [
    "# List bundles with name \"example_data\""
   ]
  },
  {
   "cell_type": "code",
   "execution_count": 64,
   "metadata": {},
   "outputs": [
    {
     "name": "stdout",
     "output_type": "stream",
     "text": [
      "example_data\t2020-05-16 01:08:31.208431\n",
      "\tdata: ['/Users/kyocum/.disdat/context/example-context/objects/aaf3d71c-51a2-4a45-94a1-301ad6465a87/file_1.txt'\n",
      " '/Users/kyocum/.disdat/context/example-context/objects/aaf3d71c-51a2-4a45-94a1-301ad6465a87/file_2.txt']\n",
      "\n",
      "example_data\t2020-05-16 01:08:23.983418\n",
      "\tdata: {'jumping': array([3. , 4.8]), 'jack': array([ 6,  8, 10])}\n",
      "\n",
      "example_data\t2020-05-16 01:08:23.563098\n",
      "\tdata: [   3    4    8   12 1000]\n",
      "\n",
      "example_data\t2020-05-16 01:08:22.994075\n",
      "\tdata: True\n",
      "\n"
     ]
    }
   ],
   "source": [
    "for b in api.search(data_context, bundle_name):    \n",
    "    print('{}\\t{}'.format(b.name, datetime.utcfromtimestamp(b.creation_date)))\n",
    "    print('\\tdata: {}'.format(b.data))\n",
    "    print()"
   ]
  }
 ],
 "metadata": {
  "kernelspec": {
   "display_name": "Python 3",
   "language": "python",
   "name": "python3"
  },
  "language_info": {
   "codemirror_mode": {
    "name": "ipython",
    "version": 3
   },
   "file_extension": ".py",
   "mimetype": "text/x-python",
   "name": "python",
   "nbconvert_exporter": "python",
   "pygments_lexer": "ipython3",
   "version": "3.7.6"
  }
 },
 "nbformat": 4,
 "nbformat_minor": 2
}
