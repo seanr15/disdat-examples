{
 "cells": [
  {
   "cell_type": "code",
   "execution_count": 99,
   "metadata": {},
   "outputs": [],
   "source": [
    "import datetime\n",
    "\n",
    "import disdat.api as api\n",
    "from disdat.api import Bundle\n",
    "import pandas as pd\n",
    "import pickle\n",
    "import time\n",
    "\n",
    "from pipelines.return_targets import ReturnTargets\n",
    "\n",
    "from sklearn.model_selection import train_test_split\n",
    "from sklearn import datasets, linear_model, tree\n",
    "from sklearn.metrics import mean_squared_error, r2_score\n",
    "from sklearn import preprocessing\n",
    "from sklearn.model_selection import cross_val_score, cross_val_predict, cross_validate\n",
    "from sklearn.ensemble import BaggingClassifier, BaggingRegressor, RandomForestRegressor, RandomForestClassifier"
   ]
  },
  {
   "cell_type": "code",
   "execution_count": 101,
   "metadata": {},
   "outputs": [
    {
     "name": "stdout",
     "output_type": "stream",
     "text": [
      "Context already bound to remote at s3://cdo-disdat-prod/\n"
     ]
    }
   ],
   "source": [
    "data_context = 'example-context'\n",
    "\n",
    "# Create data context\n",
    "api.context(data_context)\n",
    "api.remote(data_context, data_context, \"s3://cdo-disdat-prod\", force=True)   \n",
    "\n",
    "# Remove all bundles for clean execution\n",
    "found_bundles = api.search(data_context)\n",
    "if len(found_bundles) > 0:\n",
    "    print(\"Found {} bundles in context {}, removing ...\".format(len(found_bundles), data_context))\n",
    "    api.rm(data_context, rm_all=True)\n",
    "\n",
    "assert api.search(data_context) == []"
   ]
  },
  {
   "cell_type": "code",
   "execution_count": 102,
   "metadata": {},
   "outputs": [
    {
     "name": "stderr",
     "output_type": "stream",
     "text": [
      "INFO: Informed scheduler that task   DriverTask_False______9f45fa3e13   has status   PENDING\n",
      "INFO: Informed scheduler that task   ReturnTargets__99914b932b   has status   PENDING\n",
      "INFO: Done scheduling tasks\n",
      "INFO: Running Worker with 1 processes\n",
      "INFO: [pid 18535] Worker Worker(salt=654229521, workers=1, host=INTUL173d00074, username=kyocum, pid=18535) running   ReturnTargets()\n",
      "INFO: [pid 18535] Worker Worker(salt=654229521, workers=1, host=INTUL173d00074, username=kyocum, pid=18535) done      ReturnTargets()\n",
      "INFO: Informed scheduler that task   ReturnTargets__99914b932b   has status   DONE\n",
      "INFO: [pid 18535] Worker Worker(salt=654229521, workers=1, host=INTUL173d00074, username=kyocum, pid=18535) running   DriverTask(output_bundle=-, pipe_params={}, pipe_cls=<class 'pipelines.return_targets.ReturnTargets'>, input_tags={}, output_tags={}, force=False)\n",
      "INFO: [pid 18535] Worker Worker(salt=654229521, workers=1, host=INTUL173d00074, username=kyocum, pid=18535) done      DriverTask(output_bundle=-, pipe_params={}, pipe_cls=<class 'pipelines.return_targets.ReturnTargets'>, input_tags={}, output_tags={}, force=False)\n",
      "INFO: Informed scheduler that task   DriverTask_False______9f45fa3e13   has status   DONE\n",
      "INFO: Worker Worker(salt=654229521, workers=1, host=INTUL173d00074, username=kyocum, pid=18535) was stopped. Shutting down Keep-Alive thread\n",
      "INFO: \n",
      "===== Luigi Execution Summary =====\n",
      "\n",
      "Scheduled 2 tasks of which:\n",
      "* 2 ran successfully:\n",
      "    - 1 DriverTask(...)\n",
      "    - 1 ReturnTargets(...)\n",
      "\n",
      "This progress looks :) because there were no failed tasks or missing dependencies\n",
      "\n",
      "===== Luigi Execution Summary =====\n",
      "\n"
     ]
    },
    {
     "name": "stdout",
     "output_type": "stream",
     "text": [
      "-------------------\n",
      "return_targets is Running!\n",
      "-------------------\n",
      "\n"
     ]
    },
    {
     "data": {
      "text/plain": [
       "{'success': True, 'did_work': True}"
      ]
     },
     "execution_count": 102,
     "metadata": {},
     "output_type": "execute_result"
    }
   ],
   "source": [
    "# Execute pipeline\n",
    "api.apply(data_context, ReturnTargets)"
   ]
  },
  {
   "cell_type": "code",
   "execution_count": 104,
   "metadata": {},
   "outputs": [
    {
     "name": "stdout",
     "output_type": "stream",
     "text": [
      "name: return_targets\n",
      "data: /Users/kyocum/.disdat/context/example-context/objects/cb46cc99-e4f5-416b-9df6-2d2e31f5b449/df.csv\n",
      "creation date: 2020-05-01 21:57:03.762671\n",
      "uuid: cb46cc99-e4f5-416b-9df6-2d2e31f5b449\n",
      "gitstuff: ('git@github.com:seanr15/disdat-examples.git', '0ab06a25f36d833c5b0df5b0af10f6b8a9407226', 'kyocum/newapi')\n"
     ]
    },
    {
     "data": {
      "text/html": [
       "<div>\n",
       "<style scoped>\n",
       "    .dataframe tbody tr th:only-of-type {\n",
       "        vertical-align: middle;\n",
       "    }\n",
       "\n",
       "    .dataframe tbody tr th {\n",
       "        vertical-align: top;\n",
       "    }\n",
       "\n",
       "    .dataframe thead th {\n",
       "        text-align: right;\n",
       "    }\n",
       "</style>\n",
       "<table border=\"1\" class=\"dataframe\">\n",
       "  <thead>\n",
       "    <tr style=\"text-align: right;\">\n",
       "      <th></th>\n",
       "      <th>a</th>\n",
       "      <th>b</th>\n",
       "    </tr>\n",
       "  </thead>\n",
       "  <tbody>\n",
       "    <tr>\n",
       "      <th>0</th>\n",
       "      <td>1</td>\n",
       "      <td>4</td>\n",
       "    </tr>\n",
       "    <tr>\n",
       "      <th>1</th>\n",
       "      <td>2</td>\n",
       "      <td>5</td>\n",
       "    </tr>\n",
       "    <tr>\n",
       "      <th>2</th>\n",
       "      <td>3</td>\n",
       "      <td>6</td>\n",
       "    </tr>\n",
       "  </tbody>\n",
       "</table>\n",
       "</div>"
      ],
      "text/plain": [
       "   a  b\n",
       "0  1  4\n",
       "1  2  5\n",
       "2  3  6"
      ]
     },
     "metadata": {},
     "output_type": "display_data"
    }
   ],
   "source": [
    "bundle = api.get(data_context, 'return_targets')\n",
    "print('name:', bundle.name)\n",
    "print('data:', bundle.data)\n",
    "print('creation date:', datetime.datetime.utcfromtimestamp(bundle.creation_date))\n",
    "print('uuid:', bundle.uuid)\n",
    "print('gitstuff:', bundle.git_info)\n",
    "display(pd.read_csv(bundle.data,index_col=0))"
   ]
  },
  {
   "cell_type": "code",
   "execution_count": 105,
   "metadata": {},
   "outputs": [],
   "source": [
    "path = bundle.data\n",
    "df=pd.read_csv(path, index_col=0)\n",
    "X_train = df.a.values.reshape(-1,1)\n",
    "Y_train = df.b.values.reshape(-1,1)"
   ]
  },
  {
   "cell_type": "code",
   "execution_count": 107,
   "metadata": {},
   "outputs": [],
   "source": [
    "model_types = {'lin':linear_model.LinearRegression(),\n",
    "               'tree':tree.DecisionTreeRegressor(min_samples_leaf=10, criterion='mse'),\n",
    "               'rf': RandomForestRegressor(n_estimators=1000, n_jobs=-1, max_leaf_nodes=16)\n",
    "              }\n",
    "models = {}\n",
    "\n",
    "for k,v in model_types.items():\n",
    "    start = time.time()\n",
    "    clf = v.fit(X_train, Y_train)\n",
    "    stop = time.time()\n",
    "    with Bundle(data_context) as b:\n",
    "        b.name=k\n",
    "        b.add_timing(start,stop)\n",
    "        b.add_data(str(pickle.dumps(m)))\n",
    "        b.add_params({'type':'k'})        "
   ]
  },
  {
   "cell_type": "code",
   "execution_count": 108,
   "metadata": {},
   "outputs": [
    {
     "name": "stdout",
     "output_type": "stream",
     "text": [
      "rf\n",
      "_8ce4b16b22_d41d8cd98f\n",
      "1.228410005569458\n",
      "Pushed committed bundle None uuid 81a20fe6-dd4d-49c1-872e-03291ab81675 to remote s3://cdo-disdat-prod/context\n",
      "tree\n",
      "_8ce4b16b22_d41d8cd98f\n",
      "0.0007390975952148438\n",
      "Pushed committed bundle None uuid c5e05da4-cae2-4f85-bbf1-ba7cafab2d4d to remote s3://cdo-disdat-prod/context\n",
      "lin\n",
      "_8ce4b16b22_d41d8cd98f\n",
      "0.0004241466522216797\n",
      "Pushed committed bundle None uuid 22ba4d31-8656-45bd-b2b0-0c3db734bf51 to remote s3://cdo-disdat-prod/context\n",
      "lin\n",
      "_d41d8cd98f_d41d8cd98f\n",
      "0.002988100051879883\n",
      "Pushed committed bundle None uuid 60105073-cd5b-4474-8e38-7e5ce0271619 to remote s3://cdo-disdat-prod/context\n",
      "return_targets\n",
      "ReturnTargets__99914b932b_d41d8cd98f\n",
      "0.010350227355957031\n",
      "Pushed committed bundle None uuid cb46cc99-e4f5-416b-9df6-2d2e31f5b449 to remote s3://cdo-disdat-prod/context\n"
     ]
    }
   ],
   "source": [
    "for b in api.search(data_context):\n",
    "    print(b.name)\n",
    "    print(b.processing_name)\n",
    "    print(b.timing[1] - b.timing[0])\n",
    "    b.commit().push()"
   ]
  },
  {
   "cell_type": "code",
   "execution_count": null,
   "metadata": {},
   "outputs": [],
   "source": []
  }
 ],
 "metadata": {
  "kernelspec": {
   "display_name": "Python 3",
   "language": "python",
   "name": "python3"
  },
  "language_info": {
   "codemirror_mode": {
    "name": "ipython",
    "version": 3
   },
   "file_extension": ".py",
   "mimetype": "text/x-python",
   "name": "python",
   "nbconvert_exporter": "python",
   "pygments_lexer": "ipython3",
   "version": "3.7.6"
  }
 },
 "nbformat": 4,
 "nbformat_minor": 2
}
