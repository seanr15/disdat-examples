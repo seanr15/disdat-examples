{
 "cells": [
  {
   "cell_type": "code",
   "execution_count": 17,
   "metadata": {},
   "outputs": [],
   "source": [
    "import datetime\n",
    "\n",
    "import disdat.api as api\n",
    "\n",
    "from pipelines.simple_pipeline import SimplePipeline"
   ]
  },
  {
   "cell_type": "code",
   "execution_count": 19,
   "metadata": {},
   "outputs": [],
   "source": [
    "data_context = 'example-context'\n",
    "\n",
    "# Create data context\n",
    "if data_context not in api.ls_contexts():\n",
    "    api.context(data_context)\n",
    "\n",
    "# Remove all bundles for clean execution\n",
    "found_bundles = api.search(data_context)\n",
    "if len(found_bundles) > 0:\n",
    "    print(\"Found {} bundles in context {}, removing ...\".format(len(found_bundles), data_context))\n",
    "    api.rm(data_context, rm_all=True)"
   ]
  },
  {
   "cell_type": "code",
   "execution_count": 20,
   "metadata": {},
   "outputs": [
    {
     "name": "stdout",
     "output_type": "stream",
     "text": [
      "Context: example-context\n",
      "Bundles: []\n"
     ]
    }
   ],
   "source": [
    "# Examine Context\n",
    "print('Context:', api.current_context())\n",
    "print('Bundles:', api.search(data_context))"
   ]
  },
  {
   "cell_type": "code",
   "execution_count": 21,
   "metadata": {},
   "outputs": [
    {
     "name": "stderr",
     "output_type": "stream",
     "text": [
      "INFO: Informed scheduler that task   DriverTask_False______ea2d33c1b3   has status   PENDING\n",
      "INFO: Informed scheduler that task   SimplePipeline__99914b932b   has status   PENDING\n",
      "INFO: Done scheduling tasks\n",
      "INFO: Running Worker with 1 processes\n",
      "INFO: [pid 30134] Worker Worker(salt=767128207, workers=1, host=INTUL173d00074, username=kyocum, pid=30134) running   SimplePipeline()\n",
      "INFO: [pid 30134] Worker Worker(salt=767128207, workers=1, host=INTUL173d00074, username=kyocum, pid=30134) done      SimplePipeline()\n",
      "INFO: Informed scheduler that task   SimplePipeline__99914b932b   has status   DONE\n",
      "INFO: [pid 30134] Worker Worker(salt=767128207, workers=1, host=INTUL173d00074, username=kyocum, pid=30134) running   DriverTask(output_bundle=-, pipe_params={}, pipe_cls=<class 'pipelines.simple_pipeline.SimplePipeline'>, input_tags={}, output_tags={}, force=False)\n",
      "INFO: [pid 30134] Worker Worker(salt=767128207, workers=1, host=INTUL173d00074, username=kyocum, pid=30134) done      DriverTask(output_bundle=-, pipe_params={}, pipe_cls=<class 'pipelines.simple_pipeline.SimplePipeline'>, input_tags={}, output_tags={}, force=False)\n",
      "INFO: Informed scheduler that task   DriverTask_False______ea2d33c1b3   has status   DONE\n",
      "INFO: Worker Worker(salt=767128207, workers=1, host=INTUL173d00074, username=kyocum, pid=30134) was stopped. Shutting down Keep-Alive thread\n",
      "INFO: \n",
      "===== Luigi Execution Summary =====\n",
      "\n",
      "Scheduled 2 tasks of which:\n",
      "* 2 ran successfully:\n",
      "    - 1 DriverTask(...)\n",
      "    - 1 SimplePipeline(...)\n",
      "\n",
      "This progress looks :) because there were no failed tasks or missing dependencies\n",
      "\n",
      "===== Luigi Execution Summary =====\n",
      "\n"
     ]
    },
    {
     "name": "stdout",
     "output_type": "stream",
     "text": [
      "-------------------\n",
      "Simple Pipeline is Running!\n",
      "-------------------\n",
      "\n"
     ]
    },
    {
     "data": {
      "text/plain": [
       "{'success': True, 'did_work': True}"
      ]
     },
     "execution_count": 21,
     "metadata": {},
     "output_type": "execute_result"
    }
   ],
   "source": [
    "# Execute simple pipeline\n",
    "api.apply(data_context, SimplePipeline)"
   ]
  },
  {
   "cell_type": "code",
   "execution_count": 22,
   "metadata": {},
   "outputs": [
    {
     "name": "stdout",
     "output_type": "stream",
     "text": [
      "Bundle name: simple_pipeline\n"
     ]
    }
   ],
   "source": [
    "# Examine context\n",
    "for b in api.search(data_context):\n",
    "    print('Bundle name:', b.name)"
   ]
  },
  {
   "cell_type": "code",
   "execution_count": 23,
   "metadata": {},
   "outputs": [
    {
     "name": "stdout",
     "output_type": "stream",
     "text": [
      "name: simple_pipeline\n",
      "data: 2\n",
      "creation date: 2020-01-14 18:16:25.065309\n",
      "uuid: 892d192c-bdfa-4ff6-8caa-31555605267d\n"
     ]
    }
   ],
   "source": [
    "# Inspect the bundle created from the 'simple_pipeline' pipeline\n",
    "bundle = api.get(data_context, 'simple_pipeline')\n",
    "print('name:', bundle.name)\n",
    "print('data:', bundle.data)\n",
    "print('creation date:', datetime.datetime.utcfromtimestamp(bundle.creation_date))\n",
    "print('uuid:', bundle.uuid)\n"
   ]
  }
 ],
 "metadata": {
  "kernelspec": {
   "display_name": "Python 3",
   "language": "python",
   "name": "python3"
  }
 },
 "nbformat": 4,
 "nbformat_minor": 2
}
