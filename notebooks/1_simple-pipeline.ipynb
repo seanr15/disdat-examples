{
 "cells": [
  {
   "cell_type": "code",
   "execution_count": 9,
   "metadata": {},
   "outputs": [],
   "source": [
    "import datetime\n",
    "\n",
    "import disdat.api as api"
   ]
  },
  {
   "cell_type": "code",
   "execution_count": 10,
   "metadata": {},
   "outputs": [
    {
     "name": "stderr",
     "output_type": "stream",
     "text": [
      "2019-05-22 22:36:38,492 - disdat - INFO - Disdat already within a valid data context_name example-context\n"
     ]
    }
   ],
   "source": [
    "data_context = 'example-context'\n",
    "\n",
    "# Create data context\n",
    "if data_context not in api.ls_contexts():\n",
    "    api.context(data_context)\n",
    "\n",
    "# Switch to data context\n",
    "api.switch(data_context)\n",
    "\n",
    "# Remove all bundles for clean execution\n",
    "for b in api.search(data_context):\n",
    "    api.rm(data_context, b.name)"
   ]
  },
  {
   "cell_type": "code",
   "execution_count": 11,
   "metadata": {},
   "outputs": [
    {
     "name": "stdout",
     "output_type": "stream",
     "text": [
      "Context: example-context\n",
      "Bundles: []\n"
     ]
    }
   ],
   "source": [
    "# Examine Context\n",
    "print('Context:', api.current_context())\n",
    "print('Bundles:', api.search(data_context))"
   ]
  },
  {
   "cell_type": "code",
   "execution_count": 12,
   "metadata": {},
   "outputs": [
    {
     "name": "stderr",
     "output_type": "stream",
     "text": [
      "2019-05-22 22:36:39,412 - luigi-interface - INFO - Informed scheduler that task   DriverTask_False______687c7cc81d   has status   PENDING\n",
      "2019-05-22 22:36:39,413 - luigi-interface - INFO - Informed scheduler that task   SimplePipeline____ca7a191361   has status   PENDING\n",
      "2019-05-22 22:36:39,414 - luigi-interface - INFO - Done scheduling tasks\n",
      "2019-05-22 22:36:39,414 - luigi-interface - INFO - Running Worker with 1 processes\n",
      "2019-05-22 22:36:39,415 - luigi-interface - INFO - [pid 83345] Worker Worker(salt=543889089, workers=1, host=sdgl141c3d83b, username=srowan, pid=83345) running   SimplePipeline(output_tags={})\n",
      "2019-05-22 22:36:39,493 - luigi-interface - INFO - [pid 83345] Worker Worker(salt=543889089, workers=1, host=sdgl141c3d83b, username=srowan, pid=83345) done      SimplePipeline(output_tags={})\n",
      "2019-05-22 22:36:39,496 - luigi-interface - INFO - Informed scheduler that task   SimplePipeline____ca7a191361   has status   DONE\n",
      "2019-05-22 22:36:39,497 - luigi-interface - INFO - [pid 83345] Worker Worker(salt=543889089, workers=1, host=sdgl141c3d83b, username=srowan, pid=83345) running   DriverTask(output_bundle=-, pipe_params={}, pipe_cls=pipelines.1_simple-pipeline.SimplePipeline, input_tags={}, output_tags={}, force=False)\n",
      "2019-05-22 22:36:39,499 - luigi-interface - INFO - [pid 83345] Worker Worker(salt=543889089, workers=1, host=sdgl141c3d83b, username=srowan, pid=83345) done      DriverTask(output_bundle=-, pipe_params={}, pipe_cls=pipelines.1_simple-pipeline.SimplePipeline, input_tags={}, output_tags={}, force=False)\n",
      "2019-05-22 22:36:39,502 - luigi-interface - INFO - Informed scheduler that task   DriverTask_False______687c7cc81d   has status   DONE\n",
      "2019-05-22 22:36:39,503 - luigi-interface - INFO - Worker Worker(salt=543889089, workers=1, host=sdgl141c3d83b, username=srowan, pid=83345) was stopped. Shutting down Keep-Alive thread\n",
      "2019-05-22 22:36:39,505 - luigi-interface - INFO - \n",
      "===== Luigi Execution Summary =====\n",
      "\n",
      "Scheduled 2 tasks of which:\n",
      "* 2 ran successfully:\n",
      "    - 1 DriverTask(...)\n",
      "    - 1 SimplePipeline(...)\n",
      "\n",
      "This progress looks :) because there were no failed tasks or missing external dependencies\n",
      "\n",
      "===== Luigi Execution Summary =====\n",
      "\n"
     ]
    },
    {
     "name": "stdout",
     "output_type": "stream",
     "text": [
      "-------------------\n",
      "Simple Pipeline is Running!\n",
      "-------------------\n",
      "\n"
     ]
    },
    {
     "data": {
      "text/plain": [
       "{'success': True, 'did_work': True}"
      ]
     },
     "execution_count": 12,
     "metadata": {},
     "output_type": "execute_result"
    }
   ],
   "source": [
    "# Execute simple pipeline\n",
    "api.apply(data_context, 'pipelines.1_simple-pipeline.SimplePipeline')"
   ]
  },
  {
   "cell_type": "code",
   "execution_count": 13,
   "metadata": {},
   "outputs": [
    {
     "name": "stdout",
     "output_type": "stream",
     "text": [
      "Bundle name: simple_pipeline\n"
     ]
    }
   ],
   "source": [
    "# Examine context\n",
    "for b in api.search(data_context):\n",
    "    print('Bundle name:', b.name)"
   ]
  },
  {
   "cell_type": "code",
   "execution_count": 14,
   "metadata": {},
   "outputs": [
    {
     "name": "stdout",
     "output_type": "stream",
     "text": [
      "name: simple_pipeline\n",
      "data: 2\n",
      "creation date: 2019-05-23 05:36:39.478759\n",
      "uuid: e6c60d0c-a7ef-4371-a4ab-bab0538c444a\n"
     ]
    }
   ],
   "source": [
    "# Inspect the bundle created from the 'simple_pipeline' pipeline\n",
    "bundle = api.get(data_context, 'simple_pipeline')\n",
    "print('name:', bundle.name)\n",
    "print('data:', bundle.data)\n",
    "print('creation date:', datetime.datetime.utcfromtimestamp(bundle.creation_date))\n",
    "print('uuid:', bundle.uuid)\n"
   ]
  }
 ],
 "metadata": {
  "kernelspec": {
   "display_name": "Python 3",
   "language": "python",
   "name": "python3"
  },
  "language_info": {
   "codemirror_mode": {
    "name": "ipython",
    "version": 3
   },
   "file_extension": ".py",
   "mimetype": "text/x-python",
   "name": "python",
   "nbconvert_exporter": "python",
   "pygments_lexer": "ipython3",
   "version": "3.6.8"
  }
 },
 "nbformat": 4,
 "nbformat_minor": 2
}
