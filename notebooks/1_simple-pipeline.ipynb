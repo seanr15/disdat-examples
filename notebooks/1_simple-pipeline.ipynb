{
 "cells": [
  {
   "cell_type": "code",
   "execution_count": 1,
   "metadata": {},
   "outputs": [],
   "source": [
    "import datetime\n",
    "\n",
    "import disdat.api as api\n",
    "from disdatluigi.api import apply\n",
    "\n",
    "from pipelines.simple_pipeline import SimplePipeline"
   ]
  },
  {
   "cell_type": "code",
   "execution_count": 2,
   "metadata": {},
   "outputs": [
    {
     "name": "stdout",
     "output_type": "stream",
     "text": [
      "Found 6 bundles in context example-context, removing ...\n"
     ]
    }
   ],
   "source": [
    "data_context = 'example-context'\n",
    "\n",
    "# Create data context\n",
    "if data_context not in api.ls_contexts():\n",
    "    api.context(data_context)\n",
    "\n",
    "# Remove all bundles for clean execution\n",
    "found_bundles = api.search(data_context)\n",
    "if len(found_bundles) > 0:\n",
    "    print(\"Found {} bundles in context {}, removing ...\".format(len(found_bundles), data_context))\n",
    "    api.rm(data_context, rm_all=True)"
   ]
  },
  {
   "cell_type": "code",
   "execution_count": 3,
   "metadata": {},
   "outputs": [
    {
     "name": "stdout",
     "output_type": "stream",
     "text": [
      "Context: test\n",
      "Bundles: []\n"
     ]
    }
   ],
   "source": [
    "# Examine Context\n",
    "print('Context:', api.current_context())\n",
    "print('Bundles:', api.search(data_context))"
   ]
  },
  {
   "cell_type": "code",
   "execution_count": 4,
   "metadata": {},
   "outputs": [
    {
     "name": "stderr",
     "output_type": "stream",
     "text": [
      "DEBUG: Checking if SimplePipeline() is complete\n",
      "INFO: Informed scheduler that task   SimplePipeline__99914b932b   has status   PENDING\n",
      "INFO: Done scheduling tasks\n",
      "INFO: Running Worker with 1 processes\n",
      "DEBUG: Asking scheduler for work...\n",
      "DEBUG: Pending tasks: 1\n",
      "INFO: [pid 37465] Worker Worker(salt=171952036, workers=1, host=intuitdepe1ea6, username=kyocum, pid=37465) running   SimplePipeline()\n",
      "INFO: [pid 37465] Worker Worker(salt=171952036, workers=1, host=intuitdepe1ea6, username=kyocum, pid=37465) done      SimplePipeline()\n",
      "DEBUG: 1 running tasks, waiting for next task to finish\n",
      "INFO: Informed scheduler that task   SimplePipeline__99914b932b   has status   DONE\n",
      "DEBUG: Asking scheduler for work...\n",
      "DEBUG: Done\n",
      "DEBUG: There are no more tasks to run at this time\n",
      "INFO: Worker Worker(salt=171952036, workers=1, host=intuitdepe1ea6, username=kyocum, pid=37465) was stopped. Shutting down Keep-Alive thread\n",
      "INFO: \n",
      "===== Luigi Execution Summary =====\n",
      "\n",
      "Scheduled 1 tasks of which:\n",
      "* 1 ran successfully:\n",
      "    - 1 SimplePipeline(...)\n",
      "\n",
      "This progress looks :) because there were no failed tasks or missing dependencies\n",
      "\n",
      "===== Luigi Execution Summary =====\n",
      "\n"
     ]
    },
    {
     "name": "stdout",
     "output_type": "stream",
     "text": [
      "-------------------\n",
      "Simple Pipeline is Running!\n",
      "-------------------\n",
      "\n"
     ]
    },
    {
     "data": {
      "text/plain": [
       "{'success': True, 'did_work': True}"
      ]
     },
     "execution_count": 4,
     "metadata": {},
     "output_type": "execute_result"
    }
   ],
   "source": [
    "# Execute simple pipeline\n",
    "apply(data_context, SimplePipeline)"
   ]
  },
  {
   "cell_type": "code",
   "execution_count": 5,
   "metadata": {},
   "outputs": [
    {
     "name": "stdout",
     "output_type": "stream",
     "text": [
      "Bundle name: simple_pipeline\n"
     ]
    }
   ],
   "source": [
    "# Examine context\n",
    "for b in api.search(data_context):\n",
    "    print('Bundle name:', b.name)"
   ]
  },
  {
   "cell_type": "code",
   "execution_count": 6,
   "metadata": {},
   "outputs": [
    {
     "name": "stdout",
     "output_type": "stream",
     "text": [
      "name: simple_pipeline\n",
      "data: 2\n",
      "creation date: 2022-01-13 06:14:17.930145\n",
      "uuid: 1ff572e9-ec40-4262-bfd1-d925b356ea9c\n"
     ]
    }
   ],
   "source": [
    "# Inspect the bundle created from the 'simple_pipeline' pipeline\n",
    "bundle = api.get(data_context, 'simple_pipeline')\n",
    "print('name:', bundle.name)\n",
    "print('data:', bundle.data)\n",
    "print('creation date:', datetime.datetime.utcfromtimestamp(bundle.creation_date))\n",
    "print('uuid:', bundle.uuid)\n"
   ]
  }
 ],
 "metadata": {
  "kernelspec": {
   "display_name": "Python 3 (ipykernel)",
   "language": "python",
   "name": "python3"
  },
  "language_info": {
   "codemirror_mode": {
    "name": "ipython",
    "version": 3
   },
   "file_extension": ".py",
   "mimetype": "text/x-python",
   "name": "python",
   "nbconvert_exporter": "python",
   "pygments_lexer": "ipython3",
   "version": "3.8.10"
  }
 },
 "nbformat": 4,
 "nbformat_minor": 2
}