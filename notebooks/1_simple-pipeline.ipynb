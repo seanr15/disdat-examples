{
 "cells": [
  {
   "cell_type": "code",
   "execution_count": 1,
   "metadata": {},
   "outputs": [],
   "source": [
    "import datetime\n",
    "\n",
    "import disdat.api as api"
   ]
  },
  {
   "cell_type": "code",
   "execution_count": 2,
   "metadata": {},
   "outputs": [],
   "source": [
    "data_context = 'example-context'\n",
    "\n",
    "# Create data context\n",
    "if data_context not in api.ls_contexts():\n",
    "    api.context(data_context)\n",
    "\n",
    "# Remove all bundles for clean execution\n",
    "for b in api.search(data_context):\n",
    "    api.rm(data_context, b.name)"
   ]
  },
  {
   "cell_type": "code",
   "execution_count": 3,
   "metadata": {},
   "outputs": [
    {
     "name": "stdout",
     "output_type": "stream",
     "text": [
      "Context: example-context\n",
      "Bundles: []\n"
     ]
    }
   ],
   "source": [
    "# Examine Context\n",
    "print('Context:', api.current_context())\n",
    "print('Bundles:', api.search(data_context))"
   ]
  },
  {
   "cell_type": "code",
   "execution_count": 4,
   "metadata": {},
   "outputs": [
    {
     "name": "stderr",
     "output_type": "stream",
     "text": [
      "INFO: Informed scheduler that task   DriverTask_False______687c7cc81d   has status   PENDING\n",
      "INFO: Informed scheduler that task   SimplePipeline____ca7a191361   has status   PENDING\n",
      "INFO: Done scheduling tasks\n",
      "INFO: Running Worker with 1 processes\n",
      "INFO: [pid 92662] Worker Worker(salt=652824089, workers=1, host=starlord-6.local, username=kyocum, pid=92662) running   SimplePipeline(output_tags={})\n",
      "INFO: [pid 92662] Worker Worker(salt=652824089, workers=1, host=starlord-6.local, username=kyocum, pid=92662) done      SimplePipeline(output_tags={})\n",
      "INFO: Informed scheduler that task   SimplePipeline____ca7a191361   has status   DONE\n",
      "INFO: [pid 92662] Worker Worker(salt=652824089, workers=1, host=starlord-6.local, username=kyocum, pid=92662) running   DriverTask(output_bundle=-, pipe_params={}, pipe_cls=pipelines.1_simple-pipeline.SimplePipeline, input_tags={}, output_tags={}, force=False)\n",
      "INFO: [pid 92662] Worker Worker(salt=652824089, workers=1, host=starlord-6.local, username=kyocum, pid=92662) done      DriverTask(output_bundle=-, pipe_params={}, pipe_cls=pipelines.1_simple-pipeline.SimplePipeline, input_tags={}, output_tags={}, force=False)\n",
      "INFO: Informed scheduler that task   DriverTask_False______687c7cc81d   has status   DONE\n",
      "INFO: Worker Worker(salt=652824089, workers=1, host=starlord-6.local, username=kyocum, pid=92662) was stopped. Shutting down Keep-Alive thread\n",
      "INFO: \n",
      "===== Luigi Execution Summary =====\n",
      "\n",
      "Scheduled 2 tasks of which:\n",
      "* 2 ran successfully:\n",
      "    - 1 DriverTask(...)\n",
      "    - 1 SimplePipeline(...)\n",
      "\n",
      "This progress looks :) because there were no failed tasks or missing external dependencies\n",
      "\n",
      "===== Luigi Execution Summary =====\n",
      "\n"
     ]
    },
    {
     "name": "stdout",
     "output_type": "stream",
     "text": [
      "-------------------\n",
      "Simple Pipeline is Running!\n",
      "-------------------\n",
      "\n"
     ]
    },
    {
     "data": {
      "text/plain": [
       "{'success': True, 'did_work': True}"
      ]
     },
     "execution_count": 4,
     "metadata": {},
     "output_type": "execute_result"
    }
   ],
   "source": [
    "# Execute simple pipeline\n",
    "api.apply(data_context, 'pipelines.1_simple-pipeline.SimplePipeline')"
   ]
  },
  {
   "cell_type": "code",
   "execution_count": 5,
   "metadata": {},
   "outputs": [
    {
     "name": "stdout",
     "output_type": "stream",
     "text": [
      "Bundle name: simple_pipeline\n"
     ]
    }
   ],
   "source": [
    "# Examine context\n",
    "for b in api.search(data_context):\n",
    "    print('Bundle name:', b.name)"
   ]
  },
  {
   "cell_type": "code",
   "execution_count": 7,
   "metadata": {},
   "outputs": [
    {
     "name": "stdout",
     "output_type": "stream",
     "text": [
      "name: simple_pipeline\n",
      "data: 2\n",
      "creation date: 2019-05-23 05:55:33.575832\n",
      "uuid: e20517e4-77cf-4184-a849-ce3cbf0089fb\n"
     ]
    }
   ],
   "source": [
    "# Inspect the bundle created from the 'simple_pipeline' pipeline\n",
    "bundle = api.get(data_context, 'simple_pipeline')\n",
    "print('name:', bundle.name)\n",
    "print('data:', bundle.data)\n",
    "print('creation date:', datetime.datetime.utcfromtimestamp(bundle.creation_date))\n",
    "print('uuid:', bundle.uuid)\n"
   ]
  }
 ],
 "metadata": {
  "kernelspec": {
   "display_name": "Python 3",
   "language": "python",
   "name": "python3"
  },
  "language_info": {
   "codemirror_mode": {
    "name": "ipython",
    "version": 3
   },
   "file_extension": ".py",
   "mimetype": "text/x-python",
   "name": "python",
   "nbconvert_exporter": "python",
   "pygments_lexer": "ipython3",
   "version": "3.6.5"
  }
 },
 "nbformat": 4,
 "nbformat_minor": 2
}
