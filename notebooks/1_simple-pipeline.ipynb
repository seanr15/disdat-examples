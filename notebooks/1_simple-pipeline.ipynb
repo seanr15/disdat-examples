{
 "cells": [
  {
   "cell_type": "code",
   "execution_count": 20,
   "metadata": {},
   "outputs": [],
   "source": [
    "import datetime\n",
    "\n",
    "import disdat.api as api"
   ]
  },
  {
   "cell_type": "code",
   "execution_count": 21,
   "metadata": {},
   "outputs": [],
   "source": [
    "data_context = 'example-context'\n",
    "\n",
    "# Create data context\n",
    "if data_context not in api.ls_contexts():\n",
    "    api.context(data_context)\n",
    "\n",
    "# Switch to data context\n",
    "api.switch(data_context)\n",
    "\n",
    "# Remove all bundles for clean execution\n",
    "for b in api.search(data_context):\n",
    "    api.rm(data_context, b.name)"
   ]
  },
  {
   "cell_type": "code",
   "execution_count": 22,
   "metadata": {},
   "outputs": [
    {
     "name": "stdout",
     "output_type": "stream",
     "text": [
      "Context: example-context\n",
      "Bundles: []\n"
     ]
    }
   ],
   "source": [
    "# Examine Context\n",
    "print('Context:', api.current_context())\n",
    "print('Bundles:', api.search(data_context))"
   ]
  },
  {
   "cell_type": "code",
   "execution_count": 23,
   "metadata": {},
   "outputs": [
    {
     "name": "stdout",
     "output_type": "stream",
     "text": [
      "2019-05-19 00:09:51,801 - luigi-interface - INFO - Informed scheduler that task   DriverTask_False______8c34b65b3b   has status   PENDING\n",
      "2019-05-19 00:09:51,802 - luigi-interface - INFO - Informed scheduler that task   SimplePipeline____ca7a191361   has status   PENDING\n",
      "2019-05-19 00:09:51,802 - luigi-interface - INFO - Done scheduling tasks\n",
      "2019-05-19 00:09:51,802 - luigi-interface - INFO - Running Worker with 1 processes\n",
      "2019-05-19 00:09:51,803 - luigi-interface - INFO - [pid 26006] Worker Worker(salt=084207331, workers=1, host=sdgl141c3d83b, username=srowan, pid=26006) running   SimplePipeline(output_tags={})\n",
      "-------------------\n",
      "Simple Pipeline is Running!\n",
      "-------------------\n",
      "\n",
      "2019-05-19 00:09:51,869 - disdat - WARNING - __main__.SimplePipeline: Source file ../pipelines/1_simple-pipeline.py not under git version control\n",
      "2019-05-19 00:09:51,896 - luigi-interface - INFO - [pid 26006] Worker Worker(salt=084207331, workers=1, host=sdgl141c3d83b, username=srowan, pid=26006) done      SimplePipeline(output_tags={})\n",
      "2019-05-19 00:09:51,899 - luigi-interface - INFO - Informed scheduler that task   SimplePipeline____ca7a191361   has status   DONE\n",
      "2019-05-19 00:09:51,900 - luigi-interface - INFO - [pid 26006] Worker Worker(salt=084207331, workers=1, host=sdgl141c3d83b, username=srowan, pid=26006) running   DriverTask(output_bundle=-, pipe_params={}, pipe_cls=SimplePipeline, input_tags={}, output_tags={}, force=False)\n",
      "2019-05-19 00:09:51,902 - luigi-interface - INFO - [pid 26006] Worker Worker(salt=084207331, workers=1, host=sdgl141c3d83b, username=srowan, pid=26006) done      DriverTask(output_bundle=-, pipe_params={}, pipe_cls=SimplePipeline, input_tags={}, output_tags={}, force=False)\n",
      "2019-05-19 00:09:51,904 - luigi-interface - INFO - Informed scheduler that task   DriverTask_False______8c34b65b3b   has status   DONE\n",
      "2019-05-19 00:09:51,905 - luigi-interface - INFO - Worker Worker(salt=084207331, workers=1, host=sdgl141c3d83b, username=srowan, pid=26006) was stopped. Shutting down Keep-Alive thread\n",
      "2019-05-19 00:09:51,908 - luigi-interface - INFO - \n",
      "===== Luigi Execution Summary =====\n",
      "\n",
      "Scheduled 2 tasks of which:\n",
      "* 2 ran successfully:\n",
      "    - 1 DriverTask(...)\n",
      "    - 1 SimplePipeline(...)\n",
      "\n",
      "This progress looks :) because there were no failed tasks or missing external dependencies\n",
      "\n",
      "===== Luigi Execution Summary =====\n",
      "\n"
     ]
    }
   ],
   "source": [
    "# Execute simple pipeline\n",
    "!python ../pipelines/1_simple-pipeline.py"
   ]
  },
  {
   "cell_type": "code",
   "execution_count": 24,
   "metadata": {},
   "outputs": [
    {
     "name": "stdout",
     "output_type": "stream",
     "text": [
      "Bundle name: simple_pipeline\n"
     ]
    }
   ],
   "source": [
    "# Examine context\n",
    "for b in api.search(data_context):\n",
    "    print('Bundle name:', b.name)"
   ]
  },
  {
   "cell_type": "code",
   "execution_count": 25,
   "metadata": {},
   "outputs": [
    {
     "name": "stdout",
     "output_type": "stream",
     "text": [
      "name: simple_pipeline\n",
      "data: 2\n",
      "creation date: 2019-05-19 07:09:51.870631\n",
      "uuid: 73a2d355-7a35-4861-bb53-c12866e61e5c\n"
     ]
    }
   ],
   "source": [
    "# Inspect the bundle created from the 'simple_pipeline' pipeline\n",
    "bundle = api.get(data_context, 'simple_pipeline')\n",
    "print('name:', bundle.name)\n",
    "print('data:', bundle.data)\n",
    "print('creation date:', datetime.datetime.utcfromtimestamp(bundle.creation_date))\n",
    "print('uuid:', bundle.uuid)\n"
   ]
  },
  {
   "cell_type": "code",
   "execution_count": null,
   "metadata": {},
   "outputs": [],
   "source": []
  }
 ],
 "metadata": {
  "kernelspec": {
   "display_name": "Python 3",
   "language": "python",
   "name": "python3"
  },
  "language_info": {
   "codemirror_mode": {
    "name": "ipython",
    "version": 3
   },
   "file_extension": ".py",
   "mimetype": "text/x-python",
   "name": "python",
   "nbconvert_exporter": "python",
   "pygments_lexer": "ipython3",
   "version": "3.6.8"
  }
 },
 "nbformat": 4,
 "nbformat_minor": 2
}
