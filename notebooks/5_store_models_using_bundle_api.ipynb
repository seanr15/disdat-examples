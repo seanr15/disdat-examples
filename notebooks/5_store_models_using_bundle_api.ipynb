{
 "cells": [
  {
   "cell_type": "code",
   "execution_count": 1,
   "metadata": {},
   "outputs": [],
   "source": [
    "import datetime\n",
    "\n",
    "import disdat.api as api\n",
    "from disdat.api import Bundle\n",
    "import pandas as pd\n",
    "import pickle\n",
    "import time\n",
    "\n",
    "from pipelines.return_targets import ReturnTargets\n",
    "\n",
    "from sklearn import datasets, linear_model, tree\n",
    "from sklearn.metrics import  mean_absolute_error\n",
    "from sklearn.ensemble import RandomForestRegressor"
   ]
  },
  {
   "cell_type": "markdown",
   "metadata": {},
   "source": [
    "# Create example context"
   ]
  },
  {
   "cell_type": "code",
   "execution_count": 2,
   "metadata": {},
   "outputs": [
    {
     "name": "stdout",
     "output_type": "stream",
     "text": [
      "Found 4 bundles in context example-context, removing ...\n"
     ]
    }
   ],
   "source": [
    "data_context = 'example-context'\n",
    "\n",
    "# Create data context\n",
    "api.context(data_context)\n",
    "\n",
    "# Remove all bundles for clean example\n",
    "found_bundles = api.search(data_context)\n",
    "if len(found_bundles) > 0:\n",
    "    print(\"Found {} bundles in context {}, removing ...\".format(len(found_bundles), data_context))\n",
    "    api.rm(data_context, rm_all=True)\n",
    "\n",
    "assert api.search(data_context) == []"
   ]
  },
  {
   "cell_type": "markdown",
   "metadata": {},
   "source": [
    "# Run a pipeline to generate training data"
   ]
  },
  {
   "cell_type": "code",
   "execution_count": 3,
   "metadata": {},
   "outputs": [
    {
     "name": "stderr",
     "output_type": "stream",
     "text": [
      "INFO: Informed scheduler that task   DriverTask_False______9f45fa3e13   has status   PENDING\n",
      "INFO: Informed scheduler that task   ReturnTargets__99914b932b   has status   PENDING\n",
      "INFO: Done scheduling tasks\n",
      "INFO: Running Worker with 1 processes\n",
      "INFO: [pid 71659] Worker Worker(salt=335483651, workers=1, host=INTUL173d00074, username=kyocum, pid=71659) running   ReturnTargets()\n",
      "INFO: [pid 71659] Worker Worker(salt=335483651, workers=1, host=INTUL173d00074, username=kyocum, pid=71659) done      ReturnTargets()\n",
      "INFO: Informed scheduler that task   ReturnTargets__99914b932b   has status   DONE\n",
      "INFO: [pid 71659] Worker Worker(salt=335483651, workers=1, host=INTUL173d00074, username=kyocum, pid=71659) running   DriverTask(output_bundle=-, pipe_params={}, pipe_cls=<class 'pipelines.return_targets.ReturnTargets'>, input_tags={}, output_tags={}, force=False)\n",
      "INFO: [pid 71659] Worker Worker(salt=335483651, workers=1, host=INTUL173d00074, username=kyocum, pid=71659) done      DriverTask(output_bundle=-, pipe_params={}, pipe_cls=<class 'pipelines.return_targets.ReturnTargets'>, input_tags={}, output_tags={}, force=False)\n",
      "INFO: Informed scheduler that task   DriverTask_False______9f45fa3e13   has status   DONE\n",
      "INFO: Worker Worker(salt=335483651, workers=1, host=INTUL173d00074, username=kyocum, pid=71659) was stopped. Shutting down Keep-Alive thread\n",
      "INFO: \n",
      "===== Luigi Execution Summary =====\n",
      "\n",
      "Scheduled 2 tasks of which:\n",
      "* 2 ran successfully:\n",
      "    - 1 DriverTask(...)\n",
      "    - 1 ReturnTargets(...)\n",
      "\n",
      "This progress looks :) because there were no failed tasks or missing dependencies\n",
      "\n",
      "===== Luigi Execution Summary =====\n",
      "\n"
     ]
    },
    {
     "name": "stdout",
     "output_type": "stream",
     "text": [
      "-------------------\n",
      "return_targets is Running!\n",
      "-------------------\n",
      "\n"
     ]
    },
    {
     "data": {
      "text/plain": [
       "{'success': True, 'did_work': True}"
      ]
     },
     "execution_count": 3,
     "metadata": {},
     "output_type": "execute_result"
    }
   ],
   "source": [
    "# Execute pipeline\n",
    "api.apply(data_context, ReturnTargets)"
   ]
  },
  {
   "cell_type": "markdown",
   "metadata": {},
   "source": [
    "# Retrieve training data and create splits"
   ]
  },
  {
   "cell_type": "code",
   "execution_count": 12,
   "metadata": {},
   "outputs": [
    {
     "name": "stdout",
     "output_type": "stream",
     "text": [
      "name: return_targets\n",
      "data: /Users/kyocum/.disdat/context/example-context/objects/dacb3b88-f597-4061-aa72-3450b1f38aae/df.csv\n",
      "creation date: 2020-07-09 07:44:30.532498\n",
      "uuid: dacb3b88-f597-4061-aa72-3450b1f38aae\n",
      "gitstuff: ('git@github.com:seanr15/disdat-examples.git', 'dae86c9f5804d843cdec6da339d4c4bedbd1334a', 'master')\n"
     ]
    },
    {
     "data": {
      "text/html": [
       "<div>\n",
       "<style scoped>\n",
       "    .dataframe tbody tr th:only-of-type {\n",
       "        vertical-align: middle;\n",
       "    }\n",
       "\n",
       "    .dataframe tbody tr th {\n",
       "        vertical-align: top;\n",
       "    }\n",
       "\n",
       "    .dataframe thead th {\n",
       "        text-align: right;\n",
       "    }\n",
       "</style>\n",
       "<table border=\"1\" class=\"dataframe\">\n",
       "  <thead>\n",
       "    <tr style=\"text-align: right;\">\n",
       "      <th></th>\n",
       "      <th>a</th>\n",
       "      <th>b</th>\n",
       "    </tr>\n",
       "  </thead>\n",
       "  <tbody>\n",
       "    <tr>\n",
       "      <th>0</th>\n",
       "      <td>1</td>\n",
       "      <td>4</td>\n",
       "    </tr>\n",
       "    <tr>\n",
       "      <th>1</th>\n",
       "      <td>2</td>\n",
       "      <td>5</td>\n",
       "    </tr>\n",
       "    <tr>\n",
       "      <th>2</th>\n",
       "      <td>3</td>\n",
       "      <td>6</td>\n",
       "    </tr>\n",
       "  </tbody>\n",
       "</table>\n",
       "</div>"
      ],
      "text/plain": [
       "   a  b\n",
       "0  1  4\n",
       "1  2  5\n",
       "2  3  6"
      ]
     },
     "metadata": {},
     "output_type": "display_data"
    }
   ],
   "source": [
    "train_bundle = api.get(data_context, 'return_targets')\n",
    "print('name:', train_bundle.name)\n",
    "print('data:', train_bundle.data)\n",
    "print('creation date:', datetime.datetime.utcfromtimestamp(train_bundle.creation_date))\n",
    "print('uuid:', train_bundle.uuid)\n",
    "print('gitstuff:', train_bundle.git_info)\n",
    "\n",
    "# Read the data from file in the bundle\n",
    "df = pd.read_csv(train_bundle.data, index_col=0)\n",
    "display(df)\n",
    "X_train = df.a.values.reshape(-1,1)\n",
    "Y_train = df.b.values.reshape(-1,1)"
   ]
  },
  {
   "cell_type": "markdown",
   "metadata": {},
   "source": [
    "# Train 3 different models, store each in a bundle"
   ]
  },
  {
   "cell_type": "code",
   "execution_count": 15,
   "metadata": {},
   "outputs": [],
   "source": [
    "model_types = {'linear':linear_model.LinearRegression(),\n",
    "               'tree':tree.DecisionTreeRegressor(min_samples_leaf=10, criterion='mse'),\n",
    "               'random_forest': RandomForestRegressor(n_estimators=1000, n_jobs=-1, max_leaf_nodes=16)\n",
    "              }\n",
    "models = {}\n",
    "\n",
    "for k,v in model_types.items():\n",
    "    start = time.time()\n",
    "    clf = v.fit(X_train, Y_train)\n",
    "    stop = time.time()\n",
    "    with Bundle(data_context) as b:\n",
    "        b.name=k\n",
    "        b.add_timing(start,stop)\n",
    "        fn = b.get_file(\"model.pkl\").fn\n",
    "        with open(fn, mode='wb') as f:\n",
    "            pickle.dump(clf, f)\n",
    "        b.add_data(fn)\n",
    "        b.add_tags({'model':'True', 'model_type':k})"
   ]
  },
  {
   "cell_type": "markdown",
   "metadata": {},
   "source": [
    "# Retrieve bundles by tag, use them to estimate training error"
   ]
  },
  {
   "cell_type": "code",
   "execution_count": 7,
   "metadata": {},
   "outputs": [
    {
     "name": "stdout",
     "output_type": "stream",
     "text": [
      "Found random_forest bundle, took [1.053407907485962] seconds to train\n",
      "Train Error MAE [0.29666666666666686]\n",
      "\n",
      "Found tree bundle, took [0.00047707557678222656] seconds to train\n",
      "Train Error MAE [0.6666666666666666]\n",
      "\n",
      "Found linear bundle, took [0.0005369186401367188] seconds to train\n",
      "Train Error MAE [0.0]\n",
      "\n"
     ]
    }
   ],
   "source": [
    "for b in api.search(data_context, tags={'model':'True'}):\n",
    "    print(\"Found {} bundle, took [{}] seconds to train\".format(b.name, b.timing[1]-b.timing[0]))\n",
    "    with open(b.data, mode='rb') as f:\n",
    "        clf = pickle.load(f)\n",
    "    Y_pred = clf.predict(X_train)    \n",
    "    print(\"Train Error MAE [{}]\".format(mean_absolute_error(Y_pred, Y_train)))\n",
    "    print()\n",
    "    "
   ]
  },
  {
   "cell_type": "code",
   "execution_count": null,
   "metadata": {},
   "outputs": [],
   "source": []
  }
 ],
 "metadata": {
  "kernelspec": {
   "display_name": "Python 3",
   "language": "python",
   "name": "python3"
  },
  "language_info": {
   "codemirror_mode": {
    "name": "ipython",
    "version": 3
   },
   "file_extension": ".py",
   "mimetype": "text/x-python",
   "name": "python",
   "nbconvert_exporter": "python",
   "pygments_lexer": "ipython3",
   "version": "3.7.6"
  }
 },
 "nbformat": 4,
 "nbformat_minor": 2
}
