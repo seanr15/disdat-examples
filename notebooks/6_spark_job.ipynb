{
 "cells": [
  {
   "cell_type": "markdown",
   "metadata": {},
   "source": [
    "# Spark Job Example\n",
    "* Requires you to have a spark master running\n",
    "* Requires you to have aws configured to allow pushing files to S3"
   ]
  },
  {
   "cell_type": "code",
   "execution_count": 1,
   "metadata": {},
   "outputs": [],
   "source": [
    "%load_ext autoreload\n",
    "%autoreload 1"
   ]
  },
  {
   "cell_type": "code",
   "execution_count": 2,
   "metadata": {},
   "outputs": [],
   "source": [
    "import disdat.api as api\n",
    "from disdat.api import Bundle\n",
    "import pandas as pd\n",
    "import pickle\n",
    "import time\n",
    "import luigi\n",
    "from pyspark.sql import SparkSession\n",
    "from pyspark import SparkConf\n",
    "import os\n",
    "\n",
    "%aimport pipelines.spark_tasks"
   ]
  },
  {
   "cell_type": "markdown",
   "metadata": {},
   "source": [
    "# Make a bundle with s3 paths\n",
    "NOTE: Requires a remote context to push to "
   ]
  },
  {
   "cell_type": "code",
   "execution_count": 4,
   "metadata": {},
   "outputs": [
    {
     "name": "stdout",
     "output_type": "stream",
     "text": [
      "Context already bound to remote at s3://disdat-cdo-prd/\n",
      "Pushed committed bundle None uuid 592e10eb-9ddf-4a89-a584-1929add7a284 to remote s3://disdat-cdo-prd/context\n"
     ]
    },
    {
     "data": {
      "text/plain": [
       "<disdat.api.Bundle at 0x1216d8fd0>"
      ]
     },
     "execution_count": 4,
     "metadata": {},
     "output_type": "execute_result"
    }
   ],
   "source": [
    "data_context = 'example-context'\n",
    "remote_context_url = 's3://disdat-cdo-prd/'  # <------ Replace with the location of your Disdat contexts on S3\n",
    "api.context(data_context)\n",
    "api.remote(data_context, data_context, remote_context_url)\n",
    "\n",
    "with Bundle(data_context, name=\"s3_files\") as b:\n",
    "    f1 = b.get_file(\"file_1.txt\")\n",
    "    with open(f1, mode='w') as f:\n",
    "        f.write(\"This is our first file!\")\n",
    "    b.add_data(f1)\n",
    "\n",
    "# Push and remove the local file\n",
    "b.commit().push(delocalize=True)"
   ]
  },
  {
   "cell_type": "code",
   "execution_count": 5,
   "metadata": {
    "scrolled": false
   },
   "outputs": [],
   "source": [
    "spark_master = 'spark://INTUL173d00074:7077'\n",
    "app_name = \"testapp\""
   ]
  },
  {
   "cell_type": "code",
   "execution_count": null,
   "metadata": {
    "scrolled": false
   },
   "outputs": [
    {
     "name": "stderr",
     "output_type": "stream",
     "text": [
      "INFO: Informed scheduler that task   DriverTask_False______91f50a4619   has status   PENDING\n",
      "INFO: Informed scheduler that task   RunSparkJob_testapp_s3_files_spark___INTUL173_a4a07736f6   has status   PENDING\n",
      "INFO: Informed scheduler that task   ExternalDepTask__d41d8cd98f_d41d_592e10eb_9ddf_4a_988d52d43b   has status   DONE\n",
      "INFO: Done scheduling tasks\n",
      "INFO: Running Worker with 1 processes\n",
      "INFO: [pid 85164] Worker Worker(salt=906261020, workers=1, host=INTUL173d00074, username=kyocum, pid=85164) running   RunSparkJob(spark_master=spark://INTUL173d00074:7077, app_name=testapp, input_bundle_name=s3_files)\n"
     ]
    },
    {
     "name": "stdout",
     "output_type": "stream",
     "text": [
      "Spark reading file:s3a://disdat-cdo-prd/context/example-context/objects/592e10eb-9ddf-4a89-a584-1929add7a284/file_1.txt\n",
      "Lines with a: 0, lines with b: 0\n"
     ]
    }
   ],
   "source": [
    "api.apply(\"example-context\", \n",
    "          pipelines.spark_tasks.RunSparkJob,\n",
    "         params={'spark_master': spark_master,\n",
    "                'app_name': app_name},\n",
    "         incremental_push=True,\n",
    "         force=True)"
   ]
  }
 ],
 "metadata": {
  "kernelspec": {
   "display_name": "Python 3",
   "language": "python",
   "name": "python3"
  },
  "language_info": {
   "codemirror_mode": {
    "name": "ipython",
    "version": 3
   },
   "file_extension": ".py",
   "mimetype": "text/x-python",
   "name": "python",
   "nbconvert_exporter": "python",
   "pygments_lexer": "ipython3",
   "version": "3.7.6"
  }
 },
 "nbformat": 4,
 "nbformat_minor": 4
}
