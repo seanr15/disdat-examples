{
 "cells": [
  {
   "cell_type": "code",
   "execution_count": 1,
   "metadata": {},
   "outputs": [],
   "source": [
    "%load_ext autoreload\n",
    "%autoreload 1"
   ]
  },
  {
   "cell_type": "code",
   "execution_count": 2,
   "metadata": {},
   "outputs": [],
   "source": [
    "import disdat.api as api\n",
    "from disdat.api import Bundle\n",
    "import pandas as pd\n",
    "import pickle\n",
    "import time\n",
    "import luigi\n",
    "from pyspark.sql import SparkSession\n",
    "from pyspark import SparkConf\n",
    "import os\n",
    "\n",
    "%aimport pipelines.spark_tasks"
   ]
  },
  {
   "cell_type": "code",
   "execution_count": 3,
   "metadata": {},
   "outputs": [
    {
     "name": "stdout",
     "output_type": "stream",
     "text": [
      "s3://disdat-cdo-prd/context/tutorial/objects/cb85ba69-d3b8-47a4-8c7c-9077581b3b25/README.md\n"
     ]
    }
   ],
   "source": [
    "b = api.get('tutorial','textfile')\n",
    "print(b.data)"
   ]
  },
  {
   "cell_type": "code",
   "execution_count": 4,
   "metadata": {
    "scrolled": false
   },
   "outputs": [],
   "source": [
    "spark_master = 'spark://INTUL173d00074:7077'\n",
    "app_name = \"testapp\""
   ]
  },
  {
   "cell_type": "code",
   "execution_count": 5,
   "metadata": {
    "scrolled": false
   },
   "outputs": [
    {
     "name": "stderr",
     "output_type": "stream",
     "text": [
      "INFO: Informed scheduler that task   DriverTask_False______91f50a4619   has status   PENDING\n",
      "INFO: Informed scheduler that task   RunSparkJob_testapp_textfile_spark___INTUL173_c06d0e7a9a   has status   PENDING\n",
      "INFO: Informed scheduler that task   ExternalDepTask_add_29ac9b15b2_d_45ac8e19_fc3c_43_3f005d6d4a   has status   DONE\n",
      "INFO: Done scheduling tasks\n",
      "INFO: Running Worker with 1 processes\n",
      "INFO: [pid 33422] Worker Worker(salt=991669329, workers=1, host=INTUL173d00074, username=kyocum, pid=33422) running   RunSparkJob(spark_master=spark://INTUL173d00074:7077, app_name=testapp, input_bundle_name=textfile)\n"
     ]
    },
    {
     "name": "stdout",
     "output_type": "stream",
     "text": [
      "Spark reading file:s3a://disdat-cdo-prd/context/example-context/objects/45ac8e19-fc3c-43bc-bd82-ab750927f597/nb.log\n",
      "Lines with a: 2581, lines with b: 1119\n"
     ]
    },
    {
     "name": "stderr",
     "output_type": "stream",
     "text": [
      "INFO: [pid 33422] Worker Worker(salt=991669329, workers=1, host=INTUL173d00074, username=kyocum, pid=33422) done      RunSparkJob(spark_master=spark://INTUL173d00074:7077, app_name=testapp, input_bundle_name=textfile)\n",
      "INFO: Informed scheduler that task   RunSparkJob_testapp_textfile_spark___INTUL173_c06d0e7a9a   has status   DONE\n",
      "INFO: [pid 33422] Worker Worker(salt=991669329, workers=1, host=INTUL173d00074, username=kyocum, pid=33422) running   DriverTask(output_bundle=-, pipe_params={'spark_master': 'spark://INTUL173d00074:7077', 'app_name': 'testapp'}, pipe_cls=<class 'pipelines.spark_tasks.RunSparkJob'>, input_tags={}, output_tags={}, force=False)\n",
      "INFO: [pid 33422] Worker Worker(salt=991669329, workers=1, host=INTUL173d00074, username=kyocum, pid=33422) done      DriverTask(output_bundle=-, pipe_params={'spark_master': 'spark://INTUL173d00074:7077', 'app_name': 'testapp'}, pipe_cls=<class 'pipelines.spark_tasks.RunSparkJob'>, input_tags={}, output_tags={}, force=False)\n",
      "INFO: Informed scheduler that task   DriverTask_False______91f50a4619   has status   DONE\n",
      "INFO: Worker Worker(salt=991669329, workers=1, host=INTUL173d00074, username=kyocum, pid=33422) was stopped. Shutting down Keep-Alive thread\n",
      "INFO: \n",
      "===== Luigi Execution Summary =====\n",
      "\n",
      "Scheduled 3 tasks of which:\n",
      "* 1 complete ones were encountered:\n",
      "    - 1 ExternalDepTask(...)\n",
      "* 2 ran successfully:\n",
      "    - 1 DriverTask(...)\n",
      "    - 1 RunSparkJob(...)\n",
      "\n",
      "This progress looks :) because there were no failed tasks or missing dependencies\n",
      "\n",
      "===== Luigi Execution Summary =====\n",
      "\n"
     ]
    },
    {
     "name": "stdout",
     "output_type": "stream",
     "text": [
      "Pushed committed bundle None uuid 0decbca4-8001-4ea6-8b96-b0c3393210d4 to remote s3://disdat-cdo-prd/context\n"
     ]
    },
    {
     "data": {
      "text/plain": [
       "{'success': True, 'did_work': True}"
      ]
     },
     "execution_count": 5,
     "metadata": {},
     "output_type": "execute_result"
    }
   ],
   "source": [
    "api.apply(\"example-context\", \n",
    "          pipelines.spark_tasks.RunSparkJob,\n",
    "         params={'spark_master': spark_master,\n",
    "                'app_name': app_name},\n",
    "         incremental_push=True,\n",
    "         force=True)"
   ]
  },
  {
   "cell_type": "code",
   "execution_count": null,
   "metadata": {},
   "outputs": [],
   "source": []
  },
  {
   "cell_type": "code",
   "execution_count": null,
   "metadata": {},
   "outputs": [],
   "source": []
  }
 ],
 "metadata": {
  "kernelspec": {
   "display_name": "Python 3",
   "language": "python",
   "name": "python3"
  },
  "language_info": {
   "codemirror_mode": {
    "name": "ipython",
    "version": 3
   },
   "file_extension": ".py",
   "mimetype": "text/x-python",
   "name": "python",
   "nbconvert_exporter": "python",
   "pygments_lexer": "ipython3",
   "version": "3.7.6"
  }
 },
 "nbformat": 4,
 "nbformat_minor": 4
}
