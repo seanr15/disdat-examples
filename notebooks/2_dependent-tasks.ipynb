{
 "cells": [
  {
   "cell_type": "code",
   "execution_count": 1,
   "metadata": {},
   "outputs": [],
   "source": [
    "import datetime\n",
    "\n",
    "import disdat.api as api"
   ]
  },
  {
   "cell_type": "code",
   "execution_count": 2,
   "metadata": {},
   "outputs": [],
   "source": [
    "data_context = 'example-context'\n",
    "\n",
    "# Create data context\n",
    "if data_context not in api.ls_contexts():\n",
    "    api.context(data_context)\n",
    "\n",
    "# Remove all bundles for clean execution\n",
    "for b in api.search(data_context):\n",
    "    api.rm(data_context, b.name)\n",
    "\n",
    "assert api.search(data_context) == []"
   ]
  },
  {
   "cell_type": "code",
   "execution_count": 3,
   "metadata": {},
   "outputs": [
    {
     "name": "stderr",
     "output_type": "stream",
     "text": [
      "INFO: Informed scheduler that task   DriverTask_False______95a924376a   has status   PENDING\n",
      "INFO: Informed scheduler that task   B____ca7a191361   has status   PENDING\n",
      "INFO: Informed scheduler that task   A____ca7a191361   has status   PENDING\n",
      "INFO: Done scheduling tasks\n",
      "INFO: Running Worker with 1 processes\n",
      "INFO: [pid 93058] Worker Worker(salt=504369792, workers=1, host=starlord-6.local, username=kyocum, pid=93058) running   A(output_tags={})\n",
      "INFO: [pid 93058] Worker Worker(salt=504369792, workers=1, host=starlord-6.local, username=kyocum, pid=93058) done      A(output_tags={})\n",
      "INFO: Informed scheduler that task   A____ca7a191361   has status   DONE\n",
      "INFO: [pid 93058] Worker Worker(salt=504369792, workers=1, host=starlord-6.local, username=kyocum, pid=93058) running   B(output_tags={})\n",
      "INFO: [pid 93058] Worker Worker(salt=504369792, workers=1, host=starlord-6.local, username=kyocum, pid=93058) done      B(output_tags={})\n",
      "INFO: Informed scheduler that task   B____ca7a191361   has status   DONE\n",
      "INFO: [pid 93058] Worker Worker(salt=504369792, workers=1, host=starlord-6.local, username=kyocum, pid=93058) running   DriverTask(output_bundle=-, pipe_params={}, pipe_cls=pipelines.2_dependent-tasks.B, input_tags={}, output_tags={}, force=False)\n",
      "INFO: [pid 93058] Worker Worker(salt=504369792, workers=1, host=starlord-6.local, username=kyocum, pid=93058) done      DriverTask(output_bundle=-, pipe_params={}, pipe_cls=pipelines.2_dependent-tasks.B, input_tags={}, output_tags={}, force=False)\n",
      "INFO: Informed scheduler that task   DriverTask_False______95a924376a   has status   DONE\n",
      "INFO: Worker Worker(salt=504369792, workers=1, host=starlord-6.local, username=kyocum, pid=93058) was stopped. Shutting down Keep-Alive thread\n",
      "INFO: \n",
      "===== Luigi Execution Summary =====\n",
      "\n",
      "Scheduled 3 tasks of which:\n",
      "* 3 ran successfully:\n",
      "    - 1 A(...)\n",
      "    - 1 B(...)\n",
      "    - 1 DriverTask(...)\n",
      "\n",
      "This progress looks :) because there were no failed tasks or missing external dependencies\n",
      "\n",
      "===== Luigi Execution Summary =====\n",
      "\n"
     ]
    },
    {
     "name": "stdout",
     "output_type": "stream",
     "text": [
      "-------------------\n",
      "A is Running!\n",
      "-------------------\n",
      "\n",
      "-------------------\n",
      "B is Running!\n",
      "-------------------\n",
      "\n"
     ]
    },
    {
     "data": {
      "text/plain": [
       "{'success': True, 'did_work': True}"
      ]
     },
     "execution_count": 3,
     "metadata": {},
     "output_type": "execute_result"
    }
   ],
   "source": [
    "# Execute pipeline\n",
    "api.apply(data_context, 'pipelines.2_dependent-tasks.B')\n"
   ]
  },
  {
   "cell_type": "code",
   "execution_count": 4,
   "metadata": {},
   "outputs": [
    {
     "name": "stdout",
     "output_type": "stream",
     "text": [
      "name: b\n",
      "data: 4\n",
      "creation date: 2019-05-23 05:56:24.853205\n",
      "uuid: 25a686ab-e7fd-4eb7-b731-6188dda780c1\n",
      "\n",
      "name: a\n",
      "data: 2\n",
      "creation date: 2019-05-23 05:56:24.771367\n",
      "uuid: 597dcb91-bf02-4917-b353-9ed7434cab77\n",
      "\n"
     ]
    }
   ],
   "source": [
    "# Examine context\n",
    "for bundle in api.search(data_context):\n",
    "    print('name:', bundle.name)\n",
    "    print('data:', bundle.data)\n",
    "    print('creation date:', datetime.datetime.utcfromtimestamp(bundle.creation_date))\n",
    "    print('uuid:', bundle.uuid)\n",
    "    print()"
   ]
  },
  {
   "cell_type": "code",
   "execution_count": null,
   "metadata": {},
   "outputs": [],
   "source": []
  }
 ],
 "metadata": {
  "kernelspec": {
   "display_name": "Python 3",
   "language": "python",
   "name": "python3"
  },
  "language_info": {
   "codemirror_mode": {
    "name": "ipython",
    "version": 3
   },
   "file_extension": ".py",
   "mimetype": "text/x-python",
   "name": "python",
   "nbconvert_exporter": "python",
   "pygments_lexer": "ipython3",
   "version": "3.6.5"
  }
 },
 "nbformat": 4,
 "nbformat_minor": 2
}
