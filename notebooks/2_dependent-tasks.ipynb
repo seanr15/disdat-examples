{
 "cells": [
  {
   "cell_type": "code",
   "execution_count": 1,
   "metadata": {},
   "outputs": [],
   "source": [
    "import datetime\n",
    "\n",
    "import disdat.api as api"
   ]
  },
  {
   "cell_type": "code",
   "execution_count": 2,
   "metadata": {},
   "outputs": [],
   "source": [
    "data_context = 'example-context'\n",
    "\n",
    "# Create data context\n",
    "if data_context not in api.ls_contexts():\n",
    "    api.context(data_context)\n",
    "\n",
    "# Switch to data context\n",
    "api.switch(data_context)\n",
    "\n",
    "# Remove all bundles for clean execution\n",
    "for b in api.search(data_context):\n",
    "    api.rm(data_context, b.name)\n",
    "\n",
    "assert api.search(data_context) == []"
   ]
  },
  {
   "cell_type": "code",
   "execution_count": 3,
   "metadata": {},
   "outputs": [
    {
     "name": "stdout",
     "output_type": "stream",
     "text": [
      "2019-05-19 00:10:11,807 - luigi-interface - INFO - Informed scheduler that task   DriverTask_False______752a33fc4a   has status   PENDING\n",
      "2019-05-19 00:10:11,810 - luigi-interface - INFO - Informed scheduler that task   B____ca7a191361   has status   PENDING\n",
      "2019-05-19 00:10:11,812 - luigi-interface - INFO - Informed scheduler that task   A____ca7a191361   has status   PENDING\n",
      "2019-05-19 00:10:11,812 - luigi-interface - INFO - Done scheduling tasks\n",
      "2019-05-19 00:10:11,812 - luigi-interface - INFO - Running Worker with 1 processes\n",
      "2019-05-19 00:10:11,814 - luigi-interface - INFO - [pid 26156] Worker Worker(salt=613853025, workers=1, host=sdgl141c3d83b, username=srowan, pid=26156) running   A(output_tags={})\n",
      "-------------------\n",
      "A is Running!\n",
      "-------------------\n",
      "\n",
      "2019-05-19 00:10:11,870 - disdat - WARNING - __main__.A: Source file ../pipelines/2_dependent-tasks.py not under git version control\n",
      "2019-05-19 00:10:11,899 - luigi-interface - INFO - [pid 26156] Worker Worker(salt=613853025, workers=1, host=sdgl141c3d83b, username=srowan, pid=26156) done      A(output_tags={})\n",
      "2019-05-19 00:10:11,904 - luigi-interface - INFO - Informed scheduler that task   A____ca7a191361   has status   DONE\n",
      "2019-05-19 00:10:11,905 - luigi-interface - INFO - [pid 26156] Worker Worker(salt=613853025, workers=1, host=sdgl141c3d83b, username=srowan, pid=26156) running   B(output_tags={})\n",
      "-------------------\n",
      "B is Running!\n",
      "-------------------\n",
      "\n",
      "2019-05-19 00:10:11,939 - disdat - WARNING - __main__.B: Source file ../pipelines/2_dependent-tasks.py not under git version control\n",
      "2019-05-19 00:10:11,964 - luigi-interface - INFO - [pid 26156] Worker Worker(salt=613853025, workers=1, host=sdgl141c3d83b, username=srowan, pid=26156) done      B(output_tags={})\n",
      "2019-05-19 00:10:11,967 - luigi-interface - INFO - Informed scheduler that task   B____ca7a191361   has status   DONE\n",
      "2019-05-19 00:10:11,968 - luigi-interface - INFO - [pid 26156] Worker Worker(salt=613853025, workers=1, host=sdgl141c3d83b, username=srowan, pid=26156) running   DriverTask(output_bundle=-, pipe_params={}, pipe_cls=B, input_tags={}, output_tags={}, force=False)\n",
      "2019-05-19 00:10:11,970 - luigi-interface - INFO - [pid 26156] Worker Worker(salt=613853025, workers=1, host=sdgl141c3d83b, username=srowan, pid=26156) done      DriverTask(output_bundle=-, pipe_params={}, pipe_cls=B, input_tags={}, output_tags={}, force=False)\n",
      "2019-05-19 00:10:11,972 - luigi-interface - INFO - Informed scheduler that task   DriverTask_False______752a33fc4a   has status   DONE\n",
      "2019-05-19 00:10:11,972 - luigi-interface - INFO - Worker Worker(salt=613853025, workers=1, host=sdgl141c3d83b, username=srowan, pid=26156) was stopped. Shutting down Keep-Alive thread\n",
      "2019-05-19 00:10:11,977 - luigi-interface - INFO - \n",
      "===== Luigi Execution Summary =====\n",
      "\n",
      "Scheduled 3 tasks of which:\n",
      "* 3 ran successfully:\n",
      "    - 1 A(...)\n",
      "    - 1 B(...)\n",
      "    - 1 DriverTask(...)\n",
      "\n",
      "This progress looks :) because there were no failed tasks or missing external dependencies\n",
      "\n",
      "===== Luigi Execution Summary =====\n",
      "\n"
     ]
    }
   ],
   "source": [
    "# Execute pipeline\n",
    "!python ../pipelines/2_dependent-tasks.py"
   ]
  },
  {
   "cell_type": "code",
   "execution_count": 4,
   "metadata": {},
   "outputs": [
    {
     "name": "stdout",
     "output_type": "stream",
     "text": [
      "name: b\n",
      "data: 4\n",
      "creation date: 2019-05-19 07:10:11.940531\n",
      "uuid: f9368ee3-8557-446b-8371-9a3750eb4490\n",
      "\n",
      "name: a\n",
      "data: 2\n",
      "creation date: 2019-05-19 07:10:11.871682\n",
      "uuid: a7f1ce73-f1be-45b9-8240-60340de98e92\n",
      "\n"
     ]
    }
   ],
   "source": [
    "# Examine context\n",
    "for bundle in api.search(data_context):\n",
    "    print('name:', bundle.name)\n",
    "    print('data:', bundle.data)\n",
    "    print('creation date:', datetime.datetime.utcfromtimestamp(bundle.creation_date))\n",
    "    print('uuid:', bundle.uuid)\n",
    "    print()"
   ]
  },
  {
   "cell_type": "code",
   "execution_count": null,
   "metadata": {},
   "outputs": [],
   "source": []
  }
 ],
 "metadata": {
  "kernelspec": {
   "display_name": "Python 3",
   "language": "python",
   "name": "python3"
  },
  "language_info": {
   "codemirror_mode": {
    "name": "ipython",
    "version": 3
   },
   "file_extension": ".py",
   "mimetype": "text/x-python",
   "name": "python",
   "nbconvert_exporter": "python",
   "pygments_lexer": "ipython3",
   "version": "3.6.8"
  }
 },
 "nbformat": 4,
 "nbformat_minor": 2
}
