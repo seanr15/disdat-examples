{
 "cells": [
  {
   "cell_type": "code",
   "execution_count": 6,
   "metadata": {},
   "outputs": [],
   "source": [
    "import datetime\n",
    "\n",
    "import disdat.api as api"
   ]
  },
  {
   "cell_type": "code",
   "execution_count": 7,
   "metadata": {},
   "outputs": [
    {
     "name": "stderr",
     "output_type": "stream",
     "text": [
      "2019-05-22 22:36:46,964 - disdat - INFO - Disdat already within a valid data context_name example-context\n"
     ]
    }
   ],
   "source": [
    "data_context = 'example-context'\n",
    "\n",
    "# Create data context\n",
    "if data_context not in api.ls_contexts():\n",
    "    api.context(data_context)\n",
    "\n",
    "# Switch to data context\n",
    "api.switch(data_context)\n",
    "\n",
    "# Remove all bundles for clean execution\n",
    "for b in api.search(data_context):\n",
    "    api.rm(data_context, b.name)\n",
    "\n",
    "assert api.search(data_context) == []"
   ]
  },
  {
   "cell_type": "code",
   "execution_count": 8,
   "metadata": {},
   "outputs": [
    {
     "name": "stderr",
     "output_type": "stream",
     "text": [
      "2019-05-22 22:36:47,169 - luigi-interface - INFO - Informed scheduler that task   DriverTask_False______95a924376a   has status   PENDING\n",
      "2019-05-22 22:36:47,171 - luigi-interface - INFO - Informed scheduler that task   B____ca7a191361   has status   PENDING\n",
      "2019-05-22 22:36:47,173 - luigi-interface - INFO - Informed scheduler that task   A____ca7a191361   has status   PENDING\n",
      "2019-05-22 22:36:47,173 - luigi-interface - INFO - Done scheduling tasks\n",
      "2019-05-22 22:36:47,174 - luigi-interface - INFO - Running Worker with 1 processes\n",
      "2019-05-22 22:36:47,175 - luigi-interface - INFO - [pid 83987] Worker Worker(salt=602785389, workers=1, host=sdgl141c3d83b, username=srowan, pid=83987) running   A(output_tags={})\n",
      "2019-05-22 22:36:47,247 - luigi-interface - INFO - [pid 83987] Worker Worker(salt=602785389, workers=1, host=sdgl141c3d83b, username=srowan, pid=83987) done      A(output_tags={})\n",
      "2019-05-22 22:36:47,251 - luigi-interface - INFO - Informed scheduler that task   A____ca7a191361   has status   DONE\n",
      "2019-05-22 22:36:47,252 - luigi-interface - INFO - [pid 83987] Worker Worker(salt=602785389, workers=1, host=sdgl141c3d83b, username=srowan, pid=83987) running   B(output_tags={})\n",
      "2019-05-22 22:36:47,323 - luigi-interface - INFO - [pid 83987] Worker Worker(salt=602785389, workers=1, host=sdgl141c3d83b, username=srowan, pid=83987) done      B(output_tags={})\n",
      "2019-05-22 22:36:47,327 - luigi-interface - INFO - Informed scheduler that task   B____ca7a191361   has status   DONE\n",
      "2019-05-22 22:36:47,328 - luigi-interface - INFO - [pid 83987] Worker Worker(salt=602785389, workers=1, host=sdgl141c3d83b, username=srowan, pid=83987) running   DriverTask(output_bundle=-, pipe_params={}, pipe_cls=pipelines.2_dependent-tasks.B, input_tags={}, output_tags={}, force=False)\n",
      "2019-05-22 22:36:47,330 - luigi-interface - INFO - [pid 83987] Worker Worker(salt=602785389, workers=1, host=sdgl141c3d83b, username=srowan, pid=83987) done      DriverTask(output_bundle=-, pipe_params={}, pipe_cls=pipelines.2_dependent-tasks.B, input_tags={}, output_tags={}, force=False)\n",
      "2019-05-22 22:36:47,331 - luigi-interface - INFO - Informed scheduler that task   DriverTask_False______95a924376a   has status   DONE\n",
      "2019-05-22 22:36:47,332 - luigi-interface - INFO - Worker Worker(salt=602785389, workers=1, host=sdgl141c3d83b, username=srowan, pid=83987) was stopped. Shutting down Keep-Alive thread\n",
      "2019-05-22 22:36:47,337 - luigi-interface - INFO - \n",
      "===== Luigi Execution Summary =====\n",
      "\n",
      "Scheduled 3 tasks of which:\n",
      "* 3 ran successfully:\n",
      "    - 1 A(...)\n",
      "    - 1 B(...)\n",
      "    - 1 DriverTask(...)\n",
      "\n",
      "This progress looks :) because there were no failed tasks or missing external dependencies\n",
      "\n",
      "===== Luigi Execution Summary =====\n",
      "\n"
     ]
    },
    {
     "name": "stdout",
     "output_type": "stream",
     "text": [
      "-------------------\n",
      "A is Running!\n",
      "-------------------\n",
      "\n",
      "-------------------\n",
      "B is Running!\n",
      "-------------------\n",
      "\n"
     ]
    },
    {
     "data": {
      "text/plain": [
       "{'success': True, 'did_work': True}"
      ]
     },
     "execution_count": 8,
     "metadata": {},
     "output_type": "execute_result"
    }
   ],
   "source": [
    "# Execute pipeline\n",
    "api.apply(data_context, 'pipelines.2_dependent-tasks.B')\n"
   ]
  },
  {
   "cell_type": "code",
   "execution_count": 9,
   "metadata": {},
   "outputs": [
    {
     "name": "stdout",
     "output_type": "stream",
     "text": [
      "name: b\n",
      "data: 4\n",
      "creation date: 2019-05-23 05:36:47.308847\n",
      "uuid: 59ddb910-8c4b-4768-8652-938e6ea13962\n",
      "\n",
      "name: a\n",
      "data: 2\n",
      "creation date: 2019-05-23 05:36:47.232879\n",
      "uuid: 1d702206-e996-4fbc-98df-dd2670c46515\n",
      "\n"
     ]
    }
   ],
   "source": [
    "# Examine context\n",
    "for bundle in api.search(data_context):\n",
    "    print('name:', bundle.name)\n",
    "    print('data:', bundle.data)\n",
    "    print('creation date:', datetime.datetime.utcfromtimestamp(bundle.creation_date))\n",
    "    print('uuid:', bundle.uuid)\n",
    "    print()"
   ]
  }
 ],
 "metadata": {
  "kernelspec": {
   "display_name": "Python 3",
   "language": "python",
   "name": "python3"
  },
  "language_info": {
   "codemirror_mode": {
    "name": "ipython",
    "version": 3
   },
   "file_extension": ".py",
   "mimetype": "text/x-python",
   "name": "python",
   "nbconvert_exporter": "python",
   "pygments_lexer": "ipython3",
   "version": "3.6.8"
  }
 },
 "nbformat": 4,
 "nbformat_minor": 2
}
