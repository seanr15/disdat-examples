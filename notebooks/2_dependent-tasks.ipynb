{
 "cells": [
  {
   "cell_type": "code",
   "execution_count": 1,
   "metadata": {},
   "outputs": [],
   "source": [
    "import datetime\n",
    "\n",
    "import disdat.api as api\n",
    "\n",
    "from pipelines.dependent_tasks import B"
   ]
  },
  {
   "cell_type": "code",
   "execution_count": 2,
   "metadata": {},
   "outputs": [
    {
     "name": "stdout",
     "output_type": "stream",
     "text": [
      "Found 1 bundles in context example-context, removing ...\n"
     ]
    }
   ],
   "source": [
    "data_context = 'example-context'\n",
    "\n",
    "# Create data context\n",
    "if data_context not in api.ls_contexts():\n",
    "    api.context(data_context)\n",
    "\n",
    "\n",
    "# Remove all bundles for clean execution\n",
    "found_bundles = api.search(data_context)\n",
    "if len(found_bundles) > 0:\n",
    "    print(\"Found {} bundles in context {}, removing ...\".format(len(found_bundles), data_context))\n",
    "    api.rm(data_context, rm_all=True)\n",
    "\n",
    "assert api.search(data_context) == []"
   ]
  },
  {
   "cell_type": "code",
   "execution_count": 3,
   "metadata": {},
   "outputs": [
    {
     "name": "stderr",
     "output_type": "stream",
     "text": [
      "INFO: Informed scheduler that task   DriverTask_False______1066ae5e2d   has status   PENDING\n",
      "INFO: Informed scheduler that task   B__99914b932b   has status   PENDING\n",
      "INFO: Informed scheduler that task   A__99914b932b   has status   PENDING\n",
      "INFO: Done scheduling tasks\n",
      "INFO: Running Worker with 1 processes\n",
      "INFO: [pid 36336] Worker Worker(salt=142199252, workers=1, host=INTUL173d00074, username=kyocum, pid=36336) running   A()\n",
      "INFO: [pid 36336] Worker Worker(salt=142199252, workers=1, host=INTUL173d00074, username=kyocum, pid=36336) done      A()\n",
      "INFO: Informed scheduler that task   A__99914b932b   has status   DONE\n",
      "INFO: [pid 36336] Worker Worker(salt=142199252, workers=1, host=INTUL173d00074, username=kyocum, pid=36336) running   B()\n",
      "INFO: [pid 36336] Worker Worker(salt=142199252, workers=1, host=INTUL173d00074, username=kyocum, pid=36336) done      B()\n",
      "INFO: Informed scheduler that task   B__99914b932b   has status   DONE\n",
      "INFO: [pid 36336] Worker Worker(salt=142199252, workers=1, host=INTUL173d00074, username=kyocum, pid=36336) running   DriverTask(output_bundle=-, pipe_params={}, pipe_cls=<class 'pipelines.dependent_tasks.B'>, input_tags={}, output_tags={}, force=False)\n",
      "INFO: [pid 36336] Worker Worker(salt=142199252, workers=1, host=INTUL173d00074, username=kyocum, pid=36336) done      DriverTask(output_bundle=-, pipe_params={}, pipe_cls=<class 'pipelines.dependent_tasks.B'>, input_tags={}, output_tags={}, force=False)\n",
      "INFO: Informed scheduler that task   DriverTask_False______1066ae5e2d   has status   DONE\n",
      "INFO: Worker Worker(salt=142199252, workers=1, host=INTUL173d00074, username=kyocum, pid=36336) was stopped. Shutting down Keep-Alive thread\n",
      "INFO: \n",
      "===== Luigi Execution Summary =====\n",
      "\n",
      "Scheduled 3 tasks of which:\n",
      "* 3 ran successfully:\n",
      "    - 1 A(...)\n",
      "    - 1 B(...)\n",
      "    - 1 DriverTask(...)\n",
      "\n",
      "This progress looks :) because there were no failed tasks or missing dependencies\n",
      "\n",
      "===== Luigi Execution Summary =====\n",
      "\n"
     ]
    },
    {
     "name": "stdout",
     "output_type": "stream",
     "text": [
      "-------------------\n",
      "A is Running!\n",
      "-------------------\n",
      "\n",
      "-------------------\n",
      "B is Running!\n",
      "-------------------\n",
      "\n"
     ]
    },
    {
     "data": {
      "text/plain": [
       "{'success': True, 'did_work': True}"
      ]
     },
     "execution_count": 3,
     "metadata": {},
     "output_type": "execute_result"
    }
   ],
   "source": [
    "# Execute pipeline\n",
    "api.apply(data_context, B)\n"
   ]
  },
  {
   "cell_type": "code",
   "execution_count": 4,
   "metadata": {},
   "outputs": [
    {
     "name": "stdout",
     "output_type": "stream",
     "text": [
      "name: b\n",
      "data: 4\n",
      "creation date: 2020-01-14 18:18:19.532729\n",
      "uuid: 0bb962d9-de1b-4999-bd48-63229e890e5b\n",
      "\n",
      "name: a\n",
      "data: 2\n",
      "creation date: 2020-01-14 18:18:19.515222\n",
      "uuid: af3388a1-2c33-4aae-913a-0bc8a259fcb0\n",
      "\n"
     ]
    }
   ],
   "source": [
    "# Examine context\n",
    "for bundle in api.search(data_context):\n",
    "    print('name:', bundle.name)\n",
    "    print('data:', bundle.data)\n",
    "    print('creation date:', datetime.datetime.utcfromtimestamp(bundle.creation_date))\n",
    "    print('uuid:', bundle.uuid)\n",
    "    print()"
   ]
  },
  {
   "cell_type": "code",
   "execution_count": null,
   "metadata": {},
   "outputs": [],
   "source": []
  }
 ],
 "metadata": {
  "kernelspec": {
   "display_name": "Python 3",
   "language": "python",
   "name": "python3"
  },
  "language_info": {
   "codemirror_mode": {
    "name": "ipython",
    "version": 3
   },
   "file_extension": ".py",
   "mimetype": "text/x-python",
   "name": "python",
   "nbconvert_exporter": "python",
   "pygments_lexer": "ipython3",
   "version": "3.7.5"
  }
 },
 "nbformat": 4,
 "nbformat_minor": 2
}
