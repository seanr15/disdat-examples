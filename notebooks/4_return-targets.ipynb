{
 "cells": [
  {
   "cell_type": "code",
   "execution_count": 1,
   "metadata": {},
   "outputs": [],
   "source": [
    "import datetime\n",
    "\n",
    "import disdat.api as api\n",
    "from disdatluigi.api import apply\n",
    "\n",
    "import pandas as pd\n",
    "\n",
    "from pipelines.return_targets import ReturnTargets"
   ]
  },
  {
   "cell_type": "code",
   "execution_count": 2,
   "metadata": {},
   "outputs": [],
   "source": [
    "data_context = 'example-context'\n",
    "\n",
    "# Create data context\n",
    "if data_context not in api.ls_contexts():\n",
    "    api.context(data_context)\n",
    "    \n",
    "# Remove all bundles for clean execution\n",
    "found_bundles = api.search(data_context)\n",
    "if len(found_bundles) > 0:\n",
    "    print(\"Found {} bundles in context {}, removing ...\".format(len(found_bundles), data_context))\n",
    "    api.rm(data_context, rm_all=True)\n",
    "\n",
    "assert api.search(data_context) == []"
   ]
  },
  {
   "cell_type": "code",
   "execution_count": 3,
   "metadata": {
    "scrolled": false
   },
   "outputs": [
    {
     "name": "stderr",
     "output_type": "stream",
     "text": [
      "DEBUG: Checking if ReturnTargets() is complete\n",
      "INFO: Informed scheduler that task   ReturnTargets__99914b932b   has status   PENDING\n",
      "INFO: Done scheduling tasks\n",
      "INFO: Running Worker with 1 processes\n",
      "DEBUG: Asking scheduler for work...\n",
      "DEBUG: Pending tasks: 1\n",
      "INFO: [pid 37683] Worker Worker(salt=105270059, workers=1, host=intuitdepe1ea6, username=kyocum, pid=37683) running   ReturnTargets()\n",
      "INFO: [pid 37683] Worker Worker(salt=105270059, workers=1, host=intuitdepe1ea6, username=kyocum, pid=37683) done      ReturnTargets()\n",
      "DEBUG: 1 running tasks, waiting for next task to finish\n",
      "INFO: Informed scheduler that task   ReturnTargets__99914b932b   has status   DONE\n",
      "DEBUG: Asking scheduler for work...\n",
      "DEBUG: Done\n",
      "DEBUG: There are no more tasks to run at this time\n",
      "INFO: Worker Worker(salt=105270059, workers=1, host=intuitdepe1ea6, username=kyocum, pid=37683) was stopped. Shutting down Keep-Alive thread\n",
      "INFO: \n",
      "===== Luigi Execution Summary =====\n",
      "\n",
      "Scheduled 1 tasks of which:\n",
      "* 1 ran successfully:\n",
      "    - 1 ReturnTargets(...)\n",
      "\n",
      "This progress looks :) because there were no failed tasks or missing dependencies\n",
      "\n",
      "===== Luigi Execution Summary =====\n",
      "\n"
     ]
    },
    {
     "name": "stdout",
     "output_type": "stream",
     "text": [
      "-------------------\n",
      "return_targets is Running!\n",
      "-------------------\n",
      "\n"
     ]
    },
    {
     "data": {
      "text/plain": [
       "{'success': True, 'did_work': True}"
      ]
     },
     "execution_count": 3,
     "metadata": {},
     "output_type": "execute_result"
    }
   ],
   "source": [
    "# Execute pipeline\n",
    "\n",
    "apply(data_context, ReturnTargets)"
   ]
  },
  {
   "cell_type": "code",
   "execution_count": 4,
   "metadata": {},
   "outputs": [
    {
     "name": "stdout",
     "output_type": "stream",
     "text": [
      "name: return_targets\n",
      "data: /Users/kyocum/.disdat/context/example-context/objects/8fc3274c-2074-4638-b727-2e14cc6e9192/df.csv\n",
      "creation date: 2022-01-13 06:17:14.176283\n",
      "uuid: 8fc3274c-2074-4638-b727-2e14cc6e9192\n"
     ]
    }
   ],
   "source": [
    "bundle = api.get(data_context, 'return_targets')\n",
    "print('name:', bundle.name)\n",
    "print('data:', bundle.data)\n",
    "print('creation date:', datetime.datetime.utcfromtimestamp(bundle.creation_date))\n",
    "print('uuid:', bundle.uuid)\n"
   ]
  },
  {
   "cell_type": "code",
   "execution_count": 5,
   "metadata": {},
   "outputs": [
    {
     "data": {
      "text/html": [
       "<div>\n",
       "<style scoped>\n",
       "    .dataframe tbody tr th:only-of-type {\n",
       "        vertical-align: middle;\n",
       "    }\n",
       "\n",
       "    .dataframe tbody tr th {\n",
       "        vertical-align: top;\n",
       "    }\n",
       "\n",
       "    .dataframe thead th {\n",
       "        text-align: right;\n",
       "    }\n",
       "</style>\n",
       "<table border=\"1\" class=\"dataframe\">\n",
       "  <thead>\n",
       "    <tr style=\"text-align: right;\">\n",
       "      <th></th>\n",
       "      <th>a</th>\n",
       "      <th>b</th>\n",
       "    </tr>\n",
       "  </thead>\n",
       "  <tbody>\n",
       "    <tr>\n",
       "      <th>0</th>\n",
       "      <td>1</td>\n",
       "      <td>4</td>\n",
       "    </tr>\n",
       "    <tr>\n",
       "      <th>1</th>\n",
       "      <td>2</td>\n",
       "      <td>5</td>\n",
       "    </tr>\n",
       "    <tr>\n",
       "      <th>2</th>\n",
       "      <td>3</td>\n",
       "      <td>6</td>\n",
       "    </tr>\n",
       "  </tbody>\n",
       "</table>\n",
       "</div>"
      ],
      "text/plain": [
       "   a  b\n",
       "0  1  4\n",
       "1  2  5\n",
       "2  3  6"
      ]
     },
     "execution_count": 5,
     "metadata": {},
     "output_type": "execute_result"
    }
   ],
   "source": [
    "path = bundle.data\n",
    "pd.read_csv(path, index_col=0)"
   ]
  },
  {
   "cell_type": "code",
   "execution_count": null,
   "metadata": {},
   "outputs": [],
   "source": []
  }
 ],
 "metadata": {
  "kernelspec": {
   "display_name": "Python 3 (ipykernel)",
   "language": "python",
   "name": "python3"
  },
  "language_info": {
   "codemirror_mode": {
    "name": "ipython",
    "version": 3
   },
   "file_extension": ".py",
   "mimetype": "text/x-python",
   "name": "python",
   "nbconvert_exporter": "python",
   "pygments_lexer": "ipython3",
   "version": "3.8.10"
  }
 },
 "nbformat": 4,
 "nbformat_minor": 2
}