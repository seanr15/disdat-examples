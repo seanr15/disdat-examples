{
 "cells": [
  {
   "cell_type": "code",
   "execution_count": 1,
   "metadata": {},
   "outputs": [],
   "source": [
    "import datetime\n",
    "\n",
    "import disdat.api as api\n",
    "import pandas as pd"
   ]
  },
  {
   "cell_type": "code",
   "execution_count": 2,
   "metadata": {},
   "outputs": [],
   "source": [
    "data_context = 'example-context'\n",
    "\n",
    "# Create data context\n",
    "if data_context not in api.ls_contexts():\n",
    "    api.context(data_context)\n",
    "\n",
    "# Remove all bundles for clean execution\n",
    "for b in api.search(data_context):\n",
    "    api.rm(data_context, b.name)\n",
    "\n",
    "assert api.search(data_context) == []"
   ]
  },
  {
   "cell_type": "code",
   "execution_count": 4,
   "metadata": {},
   "outputs": [
    {
     "name": "stderr",
     "output_type": "stream",
     "text": [
      "2019-05-22 22:40:20,103 - luigi-interface - INFO - Informed scheduler that task   DriverTask_False______ce982e6fe5   has status   PENDING\n",
      "2019-05-22 22:40:20,104 - luigi-interface - INFO - Informed scheduler that task   ReturnTargets____ca7a191361   has status   PENDING\n",
      "2019-05-22 22:40:20,105 - luigi-interface - INFO - Done scheduling tasks\n",
      "2019-05-22 22:40:20,106 - luigi-interface - INFO - Running Worker with 1 processes\n",
      "2019-05-22 22:40:20,108 - luigi-interface - INFO - [pid 85362] Worker Worker(salt=273208843, workers=1, host=sdgl141c3d83b, username=srowan, pid=85362) running   ReturnTargets(output_tags={})\n",
      "2019-05-22 22:40:20,204 - luigi-interface - INFO - [pid 85362] Worker Worker(salt=273208843, workers=1, host=sdgl141c3d83b, username=srowan, pid=85362) done      ReturnTargets(output_tags={})\n",
      "2019-05-22 22:40:20,208 - luigi-interface - INFO - Informed scheduler that task   ReturnTargets____ca7a191361   has status   DONE\n",
      "2019-05-22 22:40:20,210 - luigi-interface - INFO - [pid 85362] Worker Worker(salt=273208843, workers=1, host=sdgl141c3d83b, username=srowan, pid=85362) running   DriverTask(output_bundle=-, pipe_params={}, pipe_cls=pipelines.4_return-targets.ReturnTargets, input_tags={}, output_tags={}, force=False)\n",
      "2019-05-22 22:40:20,213 - luigi-interface - INFO - [pid 85362] Worker Worker(salt=273208843, workers=1, host=sdgl141c3d83b, username=srowan, pid=85362) done      DriverTask(output_bundle=-, pipe_params={}, pipe_cls=pipelines.4_return-targets.ReturnTargets, input_tags={}, output_tags={}, force=False)\n",
      "2019-05-22 22:40:20,214 - luigi-interface - INFO - Informed scheduler that task   DriverTask_False______ce982e6fe5   has status   DONE\n",
      "2019-05-22 22:40:20,215 - luigi-interface - INFO - Worker Worker(salt=273208843, workers=1, host=sdgl141c3d83b, username=srowan, pid=85362) was stopped. Shutting down Keep-Alive thread\n",
      "2019-05-22 22:40:20,220 - luigi-interface - INFO - \n",
      "===== Luigi Execution Summary =====\n",
      "\n",
      "Scheduled 2 tasks of which:\n",
      "* 2 ran successfully:\n",
      "    - 1 DriverTask(...)\n",
      "    - 1 ReturnTargets(...)\n",
      "\n",
      "This progress looks :) because there were no failed tasks or missing external dependencies\n",
      "\n",
      "===== Luigi Execution Summary =====\n",
      "\n"
     ]
    },
    {
     "name": "stdout",
     "output_type": "stream",
     "text": [
      "-------------------\n",
      "return_targets is Running!\n",
      "-------------------\n",
      "\n"
     ]
    },
    {
     "data": {
      "text/plain": [
       "{'success': True, 'did_work': True}"
      ]
     },
     "execution_count": 4,
     "metadata": {},
     "output_type": "execute_result"
    }
   ],
   "source": [
    "# Execute pipeline\n",
    "api.apply(data_context, 'pipelines.4_return-targets.ReturnTargets')"
   ]
  },
  {
   "cell_type": "code",
   "execution_count": 5,
   "metadata": {},
   "outputs": [
    {
     "name": "stdout",
     "output_type": "stream",
     "text": [
      "name: return_targets\n",
      "data: {'df': ['/Users/srowan/.disdat/context/example-context/objects/60c99aff-ec35-4431-8ed3-48f690588c34/df.csv']}\n",
      "creation date: 2019-05-23 05:40:20.189912\n",
      "uuid: 60c99aff-ec35-4431-8ed3-48f690588c34\n"
     ]
    }
   ],
   "source": [
    "bundle = api.get(data_context, 'return_targets')\n",
    "print('name:', bundle.name)\n",
    "print('data:', bundle.data)\n",
    "print('creation date:', datetime.datetime.utcfromtimestamp(bundle.creation_date))\n",
    "print('uuid:', bundle.uuid)\n"
   ]
  },
  {
   "cell_type": "code",
   "execution_count": 6,
   "metadata": {},
   "outputs": [
    {
     "data": {
      "text/html": [
       "<div>\n",
       "<style scoped>\n",
       "    .dataframe tbody tr th:only-of-type {\n",
       "        vertical-align: middle;\n",
       "    }\n",
       "\n",
       "    .dataframe tbody tr th {\n",
       "        vertical-align: top;\n",
       "    }\n",
       "\n",
       "    .dataframe thead th {\n",
       "        text-align: right;\n",
       "    }\n",
       "</style>\n",
       "<table border=\"1\" class=\"dataframe\">\n",
       "  <thead>\n",
       "    <tr style=\"text-align: right;\">\n",
       "      <th></th>\n",
       "      <th>a</th>\n",
       "      <th>b</th>\n",
       "    </tr>\n",
       "  </thead>\n",
       "  <tbody>\n",
       "    <tr>\n",
       "      <th>0</th>\n",
       "      <td>1</td>\n",
       "      <td>4</td>\n",
       "    </tr>\n",
       "    <tr>\n",
       "      <th>1</th>\n",
       "      <td>2</td>\n",
       "      <td>5</td>\n",
       "    </tr>\n",
       "    <tr>\n",
       "      <th>2</th>\n",
       "      <td>3</td>\n",
       "      <td>6</td>\n",
       "    </tr>\n",
       "  </tbody>\n",
       "</table>\n",
       "</div>"
      ],
      "text/plain": [
       "   a  b\n",
       "0  1  4\n",
       "1  2  5\n",
       "2  3  6"
      ]
     },
     "execution_count": 6,
     "metadata": {},
     "output_type": "execute_result"
    }
   ],
   "source": [
    "path = bundle.data['df'][0]\n",
    "pd.read_csv(path, index_col=0)"
   ]
  },
  {
   "cell_type": "code",
   "execution_count": null,
   "metadata": {},
   "outputs": [],
   "source": []
  }
 ],
 "metadata": {
  "kernelspec": {
   "display_name": "Python 3",
   "language": "python",
   "name": "python3"
  },
  "language_info": {
   "codemirror_mode": {
    "name": "ipython",
    "version": 3
   },
   "file_extension": ".py",
   "mimetype": "text/x-python",
   "name": "python",
   "nbconvert_exporter": "python",
   "pygments_lexer": "ipython3",
   "version": "3.6.5"
  }
 },
 "nbformat": 4,
 "nbformat_minor": 2
}
