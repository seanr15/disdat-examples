{
 "cells": [
  {
   "cell_type": "code",
   "execution_count": 1,
   "metadata": {},
   "outputs": [],
   "source": [
    "import datetime\n",
    "\n",
    "import disdat.api as api\n",
    "\n",
    "from pipelines.pipeline_with_params import PipeWithParams"
   ]
  },
  {
   "cell_type": "code",
   "execution_count": 2,
   "metadata": {},
   "outputs": [
    {
     "name": "stdout",
     "output_type": "stream",
     "text": [
      "Found 2 bundles in context example-context, removing ...\n"
     ]
    }
   ],
   "source": [
    "data_context = 'example-context'\n",
    "\n",
    "# Create data context\n",
    "if data_context not in api.ls_contexts():\n",
    "    api.context(data_context)\n",
    "\n",
    "# Remove all bundles for clean execution\n",
    "found_bundles = api.search(data_context)\n",
    "if len(found_bundles) > 0:\n",
    "    print(\"Found {} bundles in context {}, removing ...\".format(len(found_bundles), data_context))\n",
    "    api.rm(data_context, rm_all=True)\n",
    "    \n",
    "assert api.search(data_context) == []"
   ]
  },
  {
   "cell_type": "code",
   "execution_count": 3,
   "metadata": {},
   "outputs": [
    {
     "name": "stderr",
     "output_type": "stream",
     "text": [
      "INFO: Informed scheduler that task   DriverTask_False______aa04732bf5   has status   PENDING\n",
      "INFO: Informed scheduler that task   PipeWithParams_10_afdc16722f   has status   PENDING\n",
      "INFO: Done scheduling tasks\n",
      "INFO: Running Worker with 1 processes\n",
      "INFO: [pid 36911] Worker Worker(salt=377938688, workers=1, host=INTUL173d00074, username=kyocum, pid=36911) running   PipeWithParams(n=10)\n",
      "INFO: [pid 36911] Worker Worker(salt=377938688, workers=1, host=INTUL173d00074, username=kyocum, pid=36911) done      PipeWithParams(n=10)\n",
      "INFO: Informed scheduler that task   PipeWithParams_10_afdc16722f   has status   DONE\n",
      "INFO: [pid 36911] Worker Worker(salt=377938688, workers=1, host=INTUL173d00074, username=kyocum, pid=36911) running   DriverTask(output_bundle=-, pipe_params={'n': 10}, pipe_cls=<class 'pipelines.pipeline_with_params.PipeWithParams'>, input_tags={}, output_tags={}, force=False)\n",
      "INFO: [pid 36911] Worker Worker(salt=377938688, workers=1, host=INTUL173d00074, username=kyocum, pid=36911) done      DriverTask(output_bundle=-, pipe_params={'n': 10}, pipe_cls=<class 'pipelines.pipeline_with_params.PipeWithParams'>, input_tags={}, output_tags={}, force=False)\n",
      "INFO: Informed scheduler that task   DriverTask_False______aa04732bf5   has status   DONE\n",
      "INFO: Worker Worker(salt=377938688, workers=1, host=INTUL173d00074, username=kyocum, pid=36911) was stopped. Shutting down Keep-Alive thread\n",
      "INFO: \n",
      "===== Luigi Execution Summary =====\n",
      "\n",
      "Scheduled 2 tasks of which:\n",
      "* 2 ran successfully:\n",
      "    - 1 DriverTask(...)\n",
      "    - 1 PipeWithParams(...)\n",
      "\n",
      "This progress looks :) because there were no failed tasks or missing dependencies\n",
      "\n",
      "===== Luigi Execution Summary =====\n",
      "\n"
     ]
    },
    {
     "name": "stdout",
     "output_type": "stream",
     "text": [
      "-------------------\n",
      "pipe_with_params n:10 is Running!\n",
      "-------------------\n",
      "\n"
     ]
    },
    {
     "data": {
      "text/plain": [
       "{'success': True, 'did_work': True}"
      ]
     },
     "execution_count": 3,
     "metadata": {},
     "output_type": "execute_result"
    }
   ],
   "source": [
    "# Execute pipeline\n",
    "api.apply(data_context, PipeWithParams, params={'n': 10})"
   ]
  },
  {
   "cell_type": "code",
   "execution_count": 5,
   "metadata": {},
   "outputs": [
    {
     "name": "stderr",
     "output_type": "stream",
     "text": [
      "INFO: Informed scheduler that task   DriverTask_False______f535e9eda1   has status   PENDING\n",
      "INFO: Informed scheduler that task   PipeWithParams_20_8514fc2895   has status   PENDING\n",
      "INFO: Done scheduling tasks\n",
      "INFO: Running Worker with 1 processes\n",
      "INFO: [pid 36911] Worker Worker(salt=905059959, workers=1, host=INTUL173d00074, username=kyocum, pid=36911) running   PipeWithParams(n=20)\n",
      "INFO: [pid 36911] Worker Worker(salt=905059959, workers=1, host=INTUL173d00074, username=kyocum, pid=36911) done      PipeWithParams(n=20)\n",
      "INFO: Informed scheduler that task   PipeWithParams_20_8514fc2895   has status   DONE\n",
      "INFO: [pid 36911] Worker Worker(salt=905059959, workers=1, host=INTUL173d00074, username=kyocum, pid=36911) running   DriverTask(output_bundle=-, pipe_params={'n': 20}, pipe_cls=<class 'pipelines.pipeline_with_params.PipeWithParams'>, input_tags={}, output_tags={}, force=False)\n",
      "INFO: [pid 36911] Worker Worker(salt=905059959, workers=1, host=INTUL173d00074, username=kyocum, pid=36911) done      DriverTask(output_bundle=-, pipe_params={'n': 20}, pipe_cls=<class 'pipelines.pipeline_with_params.PipeWithParams'>, input_tags={}, output_tags={}, force=False)\n",
      "INFO: Informed scheduler that task   DriverTask_False______f535e9eda1   has status   DONE\n",
      "INFO: Worker Worker(salt=905059959, workers=1, host=INTUL173d00074, username=kyocum, pid=36911) was stopped. Shutting down Keep-Alive thread\n",
      "INFO: \n",
      "===== Luigi Execution Summary =====\n",
      "\n",
      "Scheduled 2 tasks of which:\n",
      "* 2 ran successfully:\n",
      "    - 1 DriverTask(...)\n",
      "    - 1 PipeWithParams(...)\n",
      "\n",
      "This progress looks :) because there were no failed tasks or missing dependencies\n",
      "\n",
      "===== Luigi Execution Summary =====\n",
      "\n"
     ]
    },
    {
     "name": "stdout",
     "output_type": "stream",
     "text": [
      "-------------------\n",
      "pipe_with_params n:20 is Running!\n",
      "-------------------\n",
      "\n"
     ]
    },
    {
     "data": {
      "text/plain": [
       "{'success': True, 'did_work': True}"
      ]
     },
     "execution_count": 5,
     "metadata": {},
     "output_type": "execute_result"
    }
   ],
   "source": [
    "# Execute pipeline\n",
    "api.apply(data_context, PipeWithParams, params={'n': 20})"
   ]
  },
  {
   "cell_type": "code",
   "execution_count": 6,
   "metadata": {},
   "outputs": [
    {
     "name": "stdout",
     "output_type": "stream",
     "text": [
      "name: pipe_with_params\n",
      "data: 20\n",
      "creation date: 2020-01-14 18:19:40.860674\n",
      "uuid: 6cf76ec6-277d-474c-94b4-c33144585192\n",
      "params: {'n': '20'}\n",
      "\n",
      "name: pipe_with_params\n",
      "data: 10\n",
      "creation date: 2020-01-14 18:19:26.419080\n",
      "uuid: c5767ab2-8d87-437a-aaf8-c51fe91565fa\n",
      "params: {'n': '10'}\n",
      "\n"
     ]
    }
   ],
   "source": [
    "# Examine context\n",
    "for bundle in api.search(data_context):\n",
    "    print('name:', bundle.name)\n",
    "    print('data:', bundle.data)\n",
    "    print('creation date:', datetime.datetime.utcfromtimestamp(bundle.creation_date))\n",
    "    print('uuid:', bundle.uuid)\n",
    "    print('params:', bundle.params)\n",
    "    print()"
   ]
  },
  {
   "cell_type": "code",
   "execution_count": null,
   "metadata": {},
   "outputs": [],
   "source": []
  },
  {
   "cell_type": "code",
   "execution_count": null,
   "metadata": {},
   "outputs": [],
   "source": []
  }
 ],
 "metadata": {
  "kernelspec": {
   "display_name": "Python 3",
   "language": "python",
   "name": "python3"
  },
  "language_info": {
   "codemirror_mode": {
    "name": "ipython",
    "version": 3
   },
   "file_extension": ".py",
   "mimetype": "text/x-python",
   "name": "python",
   "nbconvert_exporter": "python",
   "pygments_lexer": "ipython3",
   "version": "3.7.5"
  }
 },
 "nbformat": 4,
 "nbformat_minor": 2
}
