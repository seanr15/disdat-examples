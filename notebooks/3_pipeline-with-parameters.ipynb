{
 "cells": [
  {
   "cell_type": "code",
   "execution_count": 1,
   "metadata": {},
   "outputs": [],
   "source": [
    "import datetime\n",
    "\n",
    "import disdat.api as api"
   ]
  },
  {
   "cell_type": "code",
   "execution_count": 2,
   "metadata": {},
   "outputs": [],
   "source": [
    "data_context = 'example-context'\n",
    "\n",
    "# Create data context\n",
    "if data_context not in api.ls_contexts():\n",
    "    api.context(data_context)\n",
    "\n",
    "# Remove all bundles for clean execution\n",
    "for b in api.search(data_context):\n",
    "    api.rm(data_context, b.name)\n",
    "\n",
    "assert api.search(data_context) == []"
   ]
  },
  {
   "cell_type": "code",
   "execution_count": 3,
   "metadata": {},
   "outputs": [
    {
     "name": "stderr",
     "output_type": "stream",
     "text": [
      "INFO: Informed scheduler that task   DriverTask_False______5091183449   has status   PENDING\n",
      "INFO: Informed scheduler that task   PipeWithParams_10____5ca2463257   has status   PENDING\n",
      "INFO: Done scheduling tasks\n",
      "INFO: Running Worker with 1 processes\n",
      "INFO: [pid 93092] Worker Worker(salt=957596903, workers=1, host=starlord-6.local, username=kyocum, pid=93092) running   PipeWithParams(output_tags={}, n=10)\n",
      "INFO: [pid 93092] Worker Worker(salt=957596903, workers=1, host=starlord-6.local, username=kyocum, pid=93092) done      PipeWithParams(output_tags={}, n=10)\n",
      "INFO: Informed scheduler that task   PipeWithParams_10____5ca2463257   has status   DONE\n",
      "INFO: [pid 93092] Worker Worker(salt=957596903, workers=1, host=starlord-6.local, username=kyocum, pid=93092) running   DriverTask(output_bundle=-, pipe_params={\"n\": 10}, pipe_cls=pipelines.3_pipeline-with-params.PipeWithParams, input_tags={}, output_tags={}, force=False)\n",
      "INFO: [pid 93092] Worker Worker(salt=957596903, workers=1, host=starlord-6.local, username=kyocum, pid=93092) done      DriverTask(output_bundle=-, pipe_params={\"n\": 10}, pipe_cls=pipelines.3_pipeline-with-params.PipeWithParams, input_tags={}, output_tags={}, force=False)\n",
      "INFO: Informed scheduler that task   DriverTask_False______5091183449   has status   DONE\n",
      "INFO: Worker Worker(salt=957596903, workers=1, host=starlord-6.local, username=kyocum, pid=93092) was stopped. Shutting down Keep-Alive thread\n",
      "INFO: \n",
      "===== Luigi Execution Summary =====\n",
      "\n",
      "Scheduled 2 tasks of which:\n",
      "* 2 ran successfully:\n",
      "    - 1 DriverTask(...)\n",
      "    - 1 PipeWithParams(...)\n",
      "\n",
      "This progress looks :) because there were no failed tasks or missing external dependencies\n",
      "\n",
      "===== Luigi Execution Summary =====\n",
      "\n"
     ]
    },
    {
     "name": "stdout",
     "output_type": "stream",
     "text": [
      "-------------------\n",
      "pipe_with_params n:10 is Running!\n",
      "-------------------\n",
      "\n"
     ]
    },
    {
     "data": {
      "text/plain": [
       "{'success': True, 'did_work': True}"
      ]
     },
     "execution_count": 3,
     "metadata": {},
     "output_type": "execute_result"
    }
   ],
   "source": [
    "# Execute pipeline\n",
    "api.apply(data_context, 'pipelines.3_pipeline-with-params.PipeWithParams', params={'n': 10})"
   ]
  },
  {
   "cell_type": "code",
   "execution_count": 4,
   "metadata": {},
   "outputs": [
    {
     "name": "stderr",
     "output_type": "stream",
     "text": [
      "INFO: Informed scheduler that task   DriverTask_False______0621d7d3a0   has status   PENDING\n",
      "INFO: Informed scheduler that task   PipeWithParams_20____4764dfe739   has status   PENDING\n",
      "INFO: Done scheduling tasks\n",
      "INFO: Running Worker with 1 processes\n",
      "INFO: [pid 93092] Worker Worker(salt=355887545, workers=1, host=starlord-6.local, username=kyocum, pid=93092) running   PipeWithParams(output_tags={}, n=20)\n"
     ]
    },
    {
     "name": "stdout",
     "output_type": "stream",
     "text": [
      "-------------------\n",
      "pipe_with_params n:20 is Running!\n",
      "-------------------\n",
      "\n"
     ]
    },
    {
     "name": "stderr",
     "output_type": "stream",
     "text": [
      "INFO: [pid 93092] Worker Worker(salt=355887545, workers=1, host=starlord-6.local, username=kyocum, pid=93092) done      PipeWithParams(output_tags={}, n=20)\n",
      "INFO: Informed scheduler that task   PipeWithParams_20____4764dfe739   has status   DONE\n",
      "INFO: [pid 93092] Worker Worker(salt=355887545, workers=1, host=starlord-6.local, username=kyocum, pid=93092) running   DriverTask(output_bundle=-, pipe_params={\"n\": 20}, pipe_cls=pipelines.3_pipeline-with-params.PipeWithParams, input_tags={}, output_tags={}, force=False)\n",
      "INFO: [pid 93092] Worker Worker(salt=355887545, workers=1, host=starlord-6.local, username=kyocum, pid=93092) done      DriverTask(output_bundle=-, pipe_params={\"n\": 20}, pipe_cls=pipelines.3_pipeline-with-params.PipeWithParams, input_tags={}, output_tags={}, force=False)\n",
      "INFO: Informed scheduler that task   DriverTask_False______0621d7d3a0   has status   DONE\n",
      "INFO: Worker Worker(salt=355887545, workers=1, host=starlord-6.local, username=kyocum, pid=93092) was stopped. Shutting down Keep-Alive thread\n",
      "INFO: \n",
      "===== Luigi Execution Summary =====\n",
      "\n",
      "Scheduled 2 tasks of which:\n",
      "* 2 ran successfully:\n",
      "    - 1 DriverTask(...)\n",
      "    - 1 PipeWithParams(...)\n",
      "\n",
      "This progress looks :) because there were no failed tasks or missing external dependencies\n",
      "\n",
      "===== Luigi Execution Summary =====\n",
      "\n"
     ]
    },
    {
     "data": {
      "text/plain": [
       "{'success': True, 'did_work': True}"
      ]
     },
     "execution_count": 4,
     "metadata": {},
     "output_type": "execute_result"
    }
   ],
   "source": [
    "# Execute pipeline\n",
    "api.apply(data_context, 'pipelines.3_pipeline-with-params.PipeWithParams', params={'n': 20})"
   ]
  },
  {
   "cell_type": "code",
   "execution_count": 5,
   "metadata": {},
   "outputs": [
    {
     "name": "stdout",
     "output_type": "stream",
     "text": [
      "name: pipe_with_params\n",
      "data: 20\n",
      "creation date: 2019-05-23 05:56:50.873665\n",
      "uuid: af5782df-5a97-4f19-95bc-9575ab8532e7\n",
      "params: {'n': 20}\n",
      "\n",
      "name: pipe_with_params\n",
      "data: 10\n",
      "creation date: 2019-05-23 05:56:50.738682\n",
      "uuid: cc158927-13ba-44fb-88c1-71665ece86f3\n",
      "params: {'n': 10}\n",
      "\n"
     ]
    }
   ],
   "source": [
    "# Examine context\n",
    "for bundle in api.search(data_context):\n",
    "    print('name:', bundle.name)\n",
    "    print('data:', bundle.data)\n",
    "    print('creation date:', datetime.datetime.utcfromtimestamp(bundle.creation_date))\n",
    "    print('uuid:', bundle.uuid)\n",
    "    print('params:', bundle.params)\n",
    "    print()"
   ]
  },
  {
   "cell_type": "code",
   "execution_count": null,
   "metadata": {},
   "outputs": [],
   "source": []
  },
  {
   "cell_type": "code",
   "execution_count": null,
   "metadata": {},
   "outputs": [],
   "source": []
  }
 ],
 "metadata": {
  "kernelspec": {
   "display_name": "Python 3",
   "language": "python",
   "name": "python3"
  },
  "language_info": {
   "codemirror_mode": {
    "name": "ipython",
    "version": 3
   },
   "file_extension": ".py",
   "mimetype": "text/x-python",
   "name": "python",
   "nbconvert_exporter": "python",
   "pygments_lexer": "ipython3",
   "version": "3.6.5"
  }
 },
 "nbformat": 4,
 "nbformat_minor": 2
}
