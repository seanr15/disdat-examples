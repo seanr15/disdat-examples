{
 "cells": [
  {
   "cell_type": "code",
   "execution_count": 1,
   "metadata": {},
   "outputs": [],
   "source": [
    "import datetime\n",
    "\n",
    "import disdat.api as api"
   ]
  },
  {
   "cell_type": "code",
   "execution_count": 2,
   "metadata": {},
   "outputs": [],
   "source": [
    "data_context = 'example-context'\n",
    "\n",
    "# Create data context\n",
    "if data_context not in api.ls_contexts():\n",
    "    api.context(data_context)\n",
    "\n",
    "# Switch to data context\n",
    "api.switch(data_context)\n",
    "\n",
    "# Remove all bundles for clean execution\n",
    "for b in api.search(data_context):\n",
    "    api.rm(data_context, b.name)\n",
    "\n",
    "assert api.search(data_context) == []"
   ]
  },
  {
   "cell_type": "code",
   "execution_count": 4,
   "metadata": {},
   "outputs": [
    {
     "name": "stdout",
     "output_type": "stream",
     "text": [
      "2019-05-19 00:13:41,904 - luigi-interface - INFO - Informed scheduler that task   DriverTask_False______efcc3e43b3   has status   PENDING\n",
      "2019-05-19 00:13:41,906 - luigi-interface - INFO - Informed scheduler that task   PipeWithParams_10____5ca2463257   has status   PENDING\n",
      "2019-05-19 00:13:41,906 - luigi-interface - INFO - Done scheduling tasks\n",
      "2019-05-19 00:13:41,906 - luigi-interface - INFO - Running Worker with 1 processes\n",
      "2019-05-19 00:13:41,908 - luigi-interface - INFO - [pid 27925] Worker Worker(salt=588228893, workers=1, host=sdgl141c3d83b, username=srowan, pid=27925) running   PipeWithParams(output_tags={}, n=10)\n",
      "-------------------\n",
      "pipe_with_params is Running!\n",
      "-------------------\n",
      "\n",
      "2019-05-19 00:13:42,012 - disdat - WARNING - __main__.PipeWithParams: Source file ../pipelines/3_pipeline-with-params.py not under git version control\n",
      "2019-05-19 00:13:42,051 - luigi-interface - INFO - [pid 27925] Worker Worker(salt=588228893, workers=1, host=sdgl141c3d83b, username=srowan, pid=27925) done      PipeWithParams(output_tags={}, n=10)\n",
      "2019-05-19 00:13:42,057 - luigi-interface - INFO - Informed scheduler that task   PipeWithParams_10____5ca2463257   has status   DONE\n",
      "2019-05-19 00:13:42,058 - luigi-interface - INFO - [pid 27925] Worker Worker(salt=588228893, workers=1, host=sdgl141c3d83b, username=srowan, pid=27925) running   DriverTask(output_bundle=-, pipe_params={\"n\": 10}, pipe_cls=PipeWithParams, input_tags={}, output_tags={}, force=False)\n",
      "2019-05-19 00:13:42,061 - luigi-interface - INFO - [pid 27925] Worker Worker(salt=588228893, workers=1, host=sdgl141c3d83b, username=srowan, pid=27925) done      DriverTask(output_bundle=-, pipe_params={\"n\": 10}, pipe_cls=PipeWithParams, input_tags={}, output_tags={}, force=False)\n",
      "2019-05-19 00:13:42,063 - luigi-interface - INFO - Informed scheduler that task   DriverTask_False______efcc3e43b3   has status   DONE\n",
      "2019-05-19 00:13:42,063 - luigi-interface - INFO - Worker Worker(salt=588228893, workers=1, host=sdgl141c3d83b, username=srowan, pid=27925) was stopped. Shutting down Keep-Alive thread\n",
      "2019-05-19 00:13:42,078 - luigi-interface - INFO - \n",
      "===== Luigi Execution Summary =====\n",
      "\n",
      "Scheduled 2 tasks of which:\n",
      "* 2 ran successfully:\n",
      "    - 1 DriverTask(...)\n",
      "    - 1 PipeWithParams(...)\n",
      "\n",
      "This progress looks :) because there were no failed tasks or missing external dependencies\n",
      "\n",
      "===== Luigi Execution Summary =====\n",
      "\n",
      "2019-05-19 00:13:42,206 - luigi-interface - INFO - Informed scheduler that task   DriverTask_False______0ad78d402b   has status   PENDING\n",
      "2019-05-19 00:13:42,207 - luigi-interface - INFO - Informed scheduler that task   PipeWithParams_20____4764dfe739   has status   PENDING\n",
      "2019-05-19 00:13:42,208 - luigi-interface - INFO - Done scheduling tasks\n",
      "2019-05-19 00:13:42,208 - luigi-interface - INFO - Running Worker with 1 processes\n",
      "2019-05-19 00:13:42,208 - luigi-interface - INFO - [pid 27925] Worker Worker(salt=960793621, workers=1, host=sdgl141c3d83b, username=srowan, pid=27925) running   PipeWithParams(output_tags={}, n=20)\n",
      "-------------------\n",
      "pipe_with_params is Running!\n",
      "-------------------\n",
      "\n",
      "2019-05-19 00:13:42,254 - disdat - WARNING - __main__.PipeWithParams: Source file ../pipelines/3_pipeline-with-params.py not under git version control\n",
      "2019-05-19 00:13:42,292 - luigi-interface - INFO - [pid 27925] Worker Worker(salt=960793621, workers=1, host=sdgl141c3d83b, username=srowan, pid=27925) done      PipeWithParams(output_tags={}, n=20)\n",
      "2019-05-19 00:13:42,296 - luigi-interface - INFO - Informed scheduler that task   PipeWithParams_20____4764dfe739   has status   DONE\n",
      "2019-05-19 00:13:42,297 - luigi-interface - INFO - [pid 27925] Worker Worker(salt=960793621, workers=1, host=sdgl141c3d83b, username=srowan, pid=27925) running   DriverTask(output_bundle=-, pipe_params={\"n\": 20}, pipe_cls=PipeWithParams, input_tags={}, output_tags={}, force=False)\n",
      "2019-05-19 00:13:42,299 - luigi-interface - INFO - [pid 27925] Worker Worker(salt=960793621, workers=1, host=sdgl141c3d83b, username=srowan, pid=27925) done      DriverTask(output_bundle=-, pipe_params={\"n\": 20}, pipe_cls=PipeWithParams, input_tags={}, output_tags={}, force=False)\n",
      "2019-05-19 00:13:42,301 - luigi-interface - INFO - Informed scheduler that task   DriverTask_False______0ad78d402b   has status   DONE\n",
      "2019-05-19 00:13:42,302 - luigi-interface - INFO - Worker Worker(salt=960793621, workers=1, host=sdgl141c3d83b, username=srowan, pid=27925) was stopped. Shutting down Keep-Alive thread\n",
      "2019-05-19 00:13:42,305 - luigi-interface - INFO - \n",
      "===== Luigi Execution Summary =====\n",
      "\n",
      "Scheduled 2 tasks of which:\n",
      "* 2 ran successfully:\n",
      "    - 1 DriverTask(...)\n",
      "    - 1 PipeWithParams(...)\n",
      "\n",
      "This progress looks :) because there were no failed tasks or missing external dependencies\n",
      "\n",
      "===== Luigi Execution Summary =====\n",
      "\n"
     ]
    }
   ],
   "source": [
    "# Execute pipeline\n",
    "!python ../pipelines/3_pipeline-with-params.py"
   ]
  },
  {
   "cell_type": "code",
   "execution_count": 5,
   "metadata": {},
   "outputs": [
    {
     "name": "stdout",
     "output_type": "stream",
     "text": [
      "name: pipe_with_params\n",
      "data: 20\n",
      "creation date: 2019-05-19 07:13:42.255658\n",
      "uuid: 95fef8d7-3c4a-4fac-8096-fd6d92aee4b2\n",
      "params: {'n': 20}\n",
      "\n",
      "name: pipe_with_params\n",
      "data: 10\n",
      "creation date: 2019-05-19 07:13:42.015032\n",
      "uuid: a92013ea-e0d3-4f3d-bc3d-858335f35e35\n",
      "params: {'n': 10}\n",
      "\n"
     ]
    }
   ],
   "source": [
    "# Examine context\n",
    "for bundle in api.search(data_context):\n",
    "    print('name:', bundle.name)\n",
    "    print('data:', bundle.data)\n",
    "    print('creation date:', datetime.datetime.utcfromtimestamp(bundle.creation_date))\n",
    "    print('uuid:', bundle.uuid)\n",
    "    print('params:', bundle.params)\n",
    "    print()"
   ]
  },
  {
   "cell_type": "code",
   "execution_count": null,
   "metadata": {},
   "outputs": [],
   "source": []
  }
 ],
 "metadata": {
  "kernelspec": {
   "display_name": "Python 3",
   "language": "python",
   "name": "python3"
  },
  "language_info": {
   "codemirror_mode": {
    "name": "ipython",
    "version": 3
   },
   "file_extension": ".py",
   "mimetype": "text/x-python",
   "name": "python",
   "nbconvert_exporter": "python",
   "pygments_lexer": "ipython3",
   "version": "3.6.8"
  }
 },
 "nbformat": 4,
 "nbformat_minor": 2
}
