{
 "cells": [
  {
   "cell_type": "code",
   "execution_count": 1,
   "metadata": {},
   "outputs": [],
   "source": [
    "import datetime\n",
    "\n",
    "import disdat.api as api"
   ]
  },
  {
   "cell_type": "code",
   "execution_count": 2,
   "metadata": {},
   "outputs": [],
   "source": [
    "data_context = 'example-context'\n",
    "\n",
    "# Create data context\n",
    "if data_context not in api.ls_contexts():\n",
    "    api.context(data_context)\n",
    "\n",
    "# Switch to data context\n",
    "api.switch(data_context)\n",
    "\n",
    "# Remove all bundles for clean execution\n",
    "for b in api.search(data_context):\n",
    "    api.rm(data_context, b.name)\n",
    "\n",
    "assert api.search(data_context) == []"
   ]
  },
  {
   "cell_type": "code",
   "execution_count": 3,
   "metadata": {},
   "outputs": [
    {
     "name": "stderr",
     "output_type": "stream",
     "text": [
      "2019-05-22 22:38:46,940 - luigi-interface - INFO - Informed scheduler that task   DriverTask_False______5091183449   has status   PENDING\n",
      "2019-05-22 22:38:46,941 - luigi-interface - INFO - Informed scheduler that task   PipeWithParams_10____5ca2463257   has status   PENDING\n",
      "2019-05-22 22:38:46,942 - luigi-interface - INFO - Done scheduling tasks\n",
      "2019-05-22 22:38:46,943 - luigi-interface - INFO - Running Worker with 1 processes\n",
      "2019-05-22 22:38:46,944 - luigi-interface - INFO - [pid 84935] Worker Worker(salt=388647351, workers=1, host=sdgl141c3d83b, username=srowan, pid=84935) running   PipeWithParams(output_tags={}, n=10)\n",
      "2019-05-22 22:38:47,026 - luigi-interface - INFO - [pid 84935] Worker Worker(salt=388647351, workers=1, host=sdgl141c3d83b, username=srowan, pid=84935) done      PipeWithParams(output_tags={}, n=10)\n",
      "2019-05-22 22:38:47,029 - luigi-interface - INFO - Informed scheduler that task   PipeWithParams_10____5ca2463257   has status   DONE\n",
      "2019-05-22 22:38:47,030 - luigi-interface - INFO - [pid 84935] Worker Worker(salt=388647351, workers=1, host=sdgl141c3d83b, username=srowan, pid=84935) running   DriverTask(output_bundle=-, pipe_params={\"n\": 10}, pipe_cls=pipelines.3_pipeline-with-params.PipeWithParams, input_tags={}, output_tags={}, force=False)\n",
      "2019-05-22 22:38:47,032 - luigi-interface - INFO - [pid 84935] Worker Worker(salt=388647351, workers=1, host=sdgl141c3d83b, username=srowan, pid=84935) done      DriverTask(output_bundle=-, pipe_params={\"n\": 10}, pipe_cls=pipelines.3_pipeline-with-params.PipeWithParams, input_tags={}, output_tags={}, force=False)\n",
      "2019-05-22 22:38:47,034 - luigi-interface - INFO - Informed scheduler that task   DriverTask_False______5091183449   has status   DONE\n",
      "2019-05-22 22:38:47,034 - luigi-interface - INFO - Worker Worker(salt=388647351, workers=1, host=sdgl141c3d83b, username=srowan, pid=84935) was stopped. Shutting down Keep-Alive thread\n",
      "2019-05-22 22:38:47,037 - luigi-interface - INFO - \n",
      "===== Luigi Execution Summary =====\n",
      "\n",
      "Scheduled 2 tasks of which:\n",
      "* 2 ran successfully:\n",
      "    - 1 DriverTask(...)\n",
      "    - 1 PipeWithParams(...)\n",
      "\n",
      "This progress looks :) because there were no failed tasks or missing external dependencies\n",
      "\n",
      "===== Luigi Execution Summary =====\n",
      "\n"
     ]
    },
    {
     "name": "stdout",
     "output_type": "stream",
     "text": [
      "-------------------\n",
      "pipe_with_params n:10 is Running!\n",
      "-------------------\n",
      "\n"
     ]
    },
    {
     "data": {
      "text/plain": [
       "{'success': True, 'did_work': True}"
      ]
     },
     "execution_count": 3,
     "metadata": {},
     "output_type": "execute_result"
    }
   ],
   "source": [
    "# Execute pipeline\n",
    "api.apply(data_context, 'pipelines.3_pipeline-with-params.PipeWithParams', params={'n': 10})"
   ]
  },
  {
   "cell_type": "code",
   "execution_count": 4,
   "metadata": {},
   "outputs": [
    {
     "name": "stderr",
     "output_type": "stream",
     "text": [
      "2019-05-22 22:39:00,621 - luigi-interface - INFO - Informed scheduler that task   DriverTask_False______0621d7d3a0   has status   PENDING\n",
      "2019-05-22 22:39:00,622 - luigi-interface - INFO - Informed scheduler that task   PipeWithParams_20____4764dfe739   has status   PENDING\n",
      "2019-05-22 22:39:00,623 - luigi-interface - INFO - Done scheduling tasks\n",
      "2019-05-22 22:39:00,624 - luigi-interface - INFO - Running Worker with 1 processes\n",
      "2019-05-22 22:39:00,624 - luigi-interface - INFO - [pid 84935] Worker Worker(salt=925098994, workers=1, host=sdgl141c3d83b, username=srowan, pid=84935) running   PipeWithParams(output_tags={}, n=20)\n",
      "2019-05-22 22:39:00,698 - luigi-interface - INFO - [pid 84935] Worker Worker(salt=925098994, workers=1, host=sdgl141c3d83b, username=srowan, pid=84935) done      PipeWithParams(output_tags={}, n=20)\n",
      "2019-05-22 22:39:00,701 - luigi-interface - INFO - Informed scheduler that task   PipeWithParams_20____4764dfe739   has status   DONE\n",
      "2019-05-22 22:39:00,702 - luigi-interface - INFO - [pid 84935] Worker Worker(salt=925098994, workers=1, host=sdgl141c3d83b, username=srowan, pid=84935) running   DriverTask(output_bundle=-, pipe_params={\"n\": 20}, pipe_cls=pipelines.3_pipeline-with-params.PipeWithParams, input_tags={}, output_tags={}, force=False)\n",
      "2019-05-22 22:39:00,704 - luigi-interface - INFO - [pid 84935] Worker Worker(salt=925098994, workers=1, host=sdgl141c3d83b, username=srowan, pid=84935) done      DriverTask(output_bundle=-, pipe_params={\"n\": 20}, pipe_cls=pipelines.3_pipeline-with-params.PipeWithParams, input_tags={}, output_tags={}, force=False)\n",
      "2019-05-22 22:39:00,706 - luigi-interface - INFO - Informed scheduler that task   DriverTask_False______0621d7d3a0   has status   DONE\n",
      "2019-05-22 22:39:00,707 - luigi-interface - INFO - Worker Worker(salt=925098994, workers=1, host=sdgl141c3d83b, username=srowan, pid=84935) was stopped. Shutting down Keep-Alive thread\n",
      "2019-05-22 22:39:00,710 - luigi-interface - INFO - \n",
      "===== Luigi Execution Summary =====\n",
      "\n",
      "Scheduled 2 tasks of which:\n",
      "* 2 ran successfully:\n",
      "    - 1 DriverTask(...)\n",
      "    - 1 PipeWithParams(...)\n",
      "\n",
      "This progress looks :) because there were no failed tasks or missing external dependencies\n",
      "\n",
      "===== Luigi Execution Summary =====\n",
      "\n"
     ]
    },
    {
     "name": "stdout",
     "output_type": "stream",
     "text": [
      "-------------------\n",
      "pipe_with_params n:20 is Running!\n",
      "-------------------\n",
      "\n"
     ]
    },
    {
     "data": {
      "text/plain": [
       "{'success': True, 'did_work': True}"
      ]
     },
     "execution_count": 4,
     "metadata": {},
     "output_type": "execute_result"
    }
   ],
   "source": [
    "# Execute pipeline\n",
    "api.apply(data_context, 'pipelines.3_pipeline-with-params.PipeWithParams', params={'n': 20})"
   ]
  },
  {
   "cell_type": "code",
   "execution_count": 5,
   "metadata": {},
   "outputs": [
    {
     "name": "stdout",
     "output_type": "stream",
     "text": [
      "name: pipe_with_params\n",
      "data: 20\n",
      "creation date: 2019-05-23 05:39:00.684786\n",
      "uuid: 74ec944b-43f1-4eb3-9ddf-2de984a0dd78\n",
      "params: {'n': 20}\n",
      "\n",
      "name: pipe_with_params\n",
      "data: 10\n",
      "creation date: 2019-05-23 05:38:47.010819\n",
      "uuid: e5b42c80-9557-4c12-be6d-c270e4df00b3\n",
      "params: {'n': 10}\n",
      "\n"
     ]
    }
   ],
   "source": [
    "# Examine context\n",
    "for bundle in api.search(data_context):\n",
    "    print('name:', bundle.name)\n",
    "    print('data:', bundle.data)\n",
    "    print('creation date:', datetime.datetime.utcfromtimestamp(bundle.creation_date))\n",
    "    print('uuid:', bundle.uuid)\n",
    "    print('params:', bundle.params)\n",
    "    print()"
   ]
  },
  {
   "cell_type": "code",
   "execution_count": null,
   "metadata": {},
   "outputs": [],
   "source": []
  }
 ],
 "metadata": {
  "kernelspec": {
   "display_name": "Python 3",
   "language": "python",
   "name": "python3"
  },
  "language_info": {
   "codemirror_mode": {
    "name": "ipython",
    "version": 3
   },
   "file_extension": ".py",
   "mimetype": "text/x-python",
   "name": "python",
   "nbconvert_exporter": "python",
   "pygments_lexer": "ipython3",
   "version": "3.6.8"
  }
 },
 "nbformat": 4,
 "nbformat_minor": 2
}
